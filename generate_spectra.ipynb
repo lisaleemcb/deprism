{
 "cells": [
  {
   "cell_type": "code",
   "execution_count": 1,
   "id": "c693596b",
   "metadata": {},
   "outputs": [],
   "source": [
    "%load_ext autoreload\n",
    "%autoreload 2\n",
    "%config Completer.use_jedi = False"
   ]
  },
  {
   "cell_type": "code",
   "execution_count": 2,
   "id": "de02dbdc",
   "metadata": {},
   "outputs": [],
   "source": [
    "import numpy as np\n",
    "import matplotlib.pyplot as plt\n",
    "import matplotlib.colors as colors\n",
    "import h5py\n",
    "import sys\n",
    "import corner\n",
    "import copy\n",
    "import scipy\n",
    "\n",
    "from mpl_toolkits.mplot3d import Axes3D\n",
    "from scipy.special import comb\n",
    "from astropy import units as u\n",
    "\n",
    "import analysis\n",
    "import signals\n",
    "import estimators\n",
    "import fitting\n",
    "import models\n",
    "import utils"
   ]
  },
  {
   "cell_type": "code",
   "execution_count": 3,
   "id": "55f45c0a",
   "metadata": {},
   "outputs": [],
   "source": [
    "plt.style.use('seaborn-colorblind')\n",
    "plt.rc('text', usetex=True)\n",
    "plt.rc('font', family='serif')\n",
    "\n",
    "colors = plt.rcParams['axes.prop_cycle'].by_key()['color']"
   ]
  },
  {
   "cell_type": "markdown",
   "id": "9f77720e",
   "metadata": {},
   "source": [
    "## Simulations"
   ]
  },
  {
   "cell_type": "code",
   "execution_count": 4,
   "id": "156fd8fb",
   "metadata": {},
   "outputs": [],
   "source": [
    "box = h5py.File('halos.z8.hdf5', 'r')\n",
    "box_old = h5py.File('L80_halos_z=6.0155.hdf5', 'r')"
   ]
  },
  {
   "cell_type": "code",
   "execution_count": 5,
   "id": "19870b9f",
   "metadata": {},
   "outputs": [],
   "source": [
    "masses = np.array(box_old[('mass')])\n",
    "pos = np.array(box_old[('pos')])\n",
    "density = np.array(box_old[('rho')])\n",
    "#x, y, z = pos.T\n",
    "coords = [*pos.T]\n",
    "\n",
    "#x = np.array(box[('x')])\n",
    "#y = np.array(box[('y')])\n",
    "#z = np.array(box[('z')])"
   ]
  },
  {
   "cell_type": "code",
   "execution_count": 6,
   "id": "a14edc3d",
   "metadata": {},
   "outputs": [],
   "source": [
    "runs = 3\n",
    "n_bins = 20"
   ]
  },
  {
   "cell_type": "code",
   "execution_count": 7,
   "id": "ae43744b",
   "metadata": {},
   "outputs": [],
   "source": [
    "box_size = 80.0 # in Mpc\n",
    "r = np.linspace(0, box_size, 512)\n",
    "r_vec = np.stack((r, r, r))"
   ]
  },
  {
   "cell_type": "code",
   "execution_count": 8,
   "id": "ba9fce06",
   "metadata": {},
   "outputs": [],
   "source": [
    "mass_voxels, mass_edges = np.histogramdd(coords, bins=512,\n",
    "                                                weights=masses)"
   ]
  },
  {
   "cell_type": "code",
   "execution_count": 9,
   "id": "0ca78bea",
   "metadata": {},
   "outputs": [
    {
     "data": {
      "text/plain": [
       "Text(0, 0.5, '$\\\\frac{dN}{dLog(M)}$')"
      ]
     },
     "execution_count": 9,
     "metadata": {},
     "output_type": "execute_result"
    },
    {
     "data": {
      "image/png": "[encoded data removed]",
      "text/plain": [
       "<Figure size 432x288 with 1 Axes>"
      ]
     },
     "metadata": {
      "needs_background": "light"
     },
     "output_type": "display_data"
    }
   ],
   "source": [
    "masses_hist = plt.hist(np.log(masses), bins=50)\n",
    "plt.xlabel(r'Log$(M)$', fontsize=16)\n",
    "plt.ylabel(r'$\\frac{dN}{dLog(M)}$', fontsize=16)"
   ]
  },
  {
   "cell_type": "code",
   "execution_count": 10,
   "id": "c8ae1cd0",
   "metadata": {},
   "outputs": [],
   "source": [
    "delta = utils.overdensity(density)"
   ]
  },
  {
   "cell_type": "code",
   "execution_count": 11,
   "id": "c9cbcd0b",
   "metadata": {},
   "outputs": [
    {
     "name": "stdout",
     "output_type": "stream",
     "text": [
      "voxel size is:  0.15655577299412915  Mpc\n",
      "voxel volume is:  [0.00383714]  Mpc^3\n",
      "survey volume is:  [515011.75700904]  Mpc^3\n",
      "bin scale is: log\n",
      "min resolution: k= 0.07853981633974483\n",
      "maximum k-mode: 20.02765316663493\n"
     ]
    }
   ],
   "source": [
    "k, P_m = analysis.calc_pspec(r_vec, [delta], n_bins=n_bins, bin_scale='log')\n",
    "\n",
    "#matter_pspec_results = np.asarray([k_log, density_pspec_log, density_pspec_dimless_log])"
   ]
  },
  {
   "cell_type": "code",
   "execution_count": 12,
   "id": "aed67ae4",
   "metadata": {},
   "outputs": [],
   "source": [
    "np.savez('matter_pspec', k=k, P_m=P_m)"
   ]
  },
  {
   "cell_type": "code",
   "execution_count": 11,
   "id": "31d94868",
   "metadata": {},
   "outputs": [],
   "source": [
    "matter_pspec = np.load('matter_pspec.npz')"
   ]
  },
  {
   "cell_type": "code",
   "execution_count": 12,
   "id": "0efe26a4",
   "metadata": {},
   "outputs": [
    {
     "data": {
      "text/plain": [
       "['k', 'P_m']"
      ]
     },
     "execution_count": 12,
     "metadata": {},
     "output_type": "execute_result"
    }
   ],
   "source": [
    "matter_pspec.files"
   ]
  },
  {
   "cell_type": "code",
   "execution_count": 13,
   "id": "da84a44d",
   "metadata": {},
   "outputs": [],
   "source": [
    "k = matter_pspec['k']\n",
    "P_m = matter_pspec['P_m']"
   ]
  },
  {
   "cell_type": "markdown",
   "id": "04a58490",
   "metadata": {},
   "source": [
    "### Checking power spectrum code with Powerbox"
   ]
  },
  {
   "cell_type": "markdown",
   "id": "710699da",
   "metadata": {},
   "source": [
    "Let's check our power spectrum code to make sure it does what we expect. We'll compare it to the inimitable Steven Murray's Powerbox code."
   ]
  },
  {
   "cell_type": "code",
   "execution_count": 14,
   "id": "5947d847",
   "metadata": {},
   "outputs": [],
   "source": [
    "from powerbox import get_power\n",
    "\n",
    "p_k_field, bins_field = get_power(delta, box_size,\n",
    "                                    bins=k, bin_ave=False,\n",
    "                                    vol_normalised_power=True)"
   ]
  },
  {
   "cell_type": "code",
   "execution_count": 15,
   "id": "506215c2",
   "metadata": {},
   "outputs": [
    {
     "name": "stderr",
     "output_type": "stream",
     "text": [
      "/Users/lisaleemcb/miniconda3/lib/python3.7/site-packages/powerbox/tools.py:106: UserWarning: One or more radial bins had no cells within it.\n",
      "  warnings.warn(\"One or more radial bins had no cells within it.\")\n",
      "/Users/lisaleemcb/miniconda3/lib/python3.7/site-packages/powerbox/tools.py:160: RuntimeWarning: invalid value encountered in true_divide\n",
      "  rl = np.bincount(indx, weights=np.real(field.flatten()), minlength=len(sumweights)+2)[1:-1] / sumweights\n"
     ]
    }
   ],
   "source": [
    "p_k_field_log, bins_field_log = get_power(delta, box_size, log_bins=True, bin_ave=False,\n",
    "                                    vol_normalised_power=True)"
   ]
  },
  {
   "cell_type": "code",
   "execution_count": 16,
   "id": "ceb18b46",
   "metadata": {},
   "outputs": [
    {
     "data": {
      "image/png": "[encoded data removed]",
      "text/plain": [
       "<Figure size 720x432 with 1 Axes>"
      ]
     },
     "metadata": {
      "needs_background": "light"
     },
     "output_type": "display_data"
    }
   ],
   "source": [
    "fig = plt.subplots(figsize=(10,6))\n",
    "\n",
    "plt.plot(bins_field[:-1], p_k_field,label=\"Powerbox\", marker='.')\n",
    "plt.plot(bins_field_log[:-1], p_k_field_log, label=\"Powerbox log\", marker='.', ls='-')\n",
    "plt.plot(k, P_m,label=\"PS code\", marker='.')\n",
    "\n",
    "plt.legend()\n",
    "plt.xscale('log')\n",
    "plt.yscale('log')"
   ]
  },
  {
   "cell_type": "markdown",
   "id": "398992ed",
   "metadata": {},
   "source": [
    "So our power spectra code is in good agreement with Steven Murray.  A reassuring sign!"
   ]
  },
  {
   "cell_type": "markdown",
   "id": "f7f56483",
   "metadata": {},
   "source": [
    "### Comparison with CAMB and Powerbox"
   ]
  },
  {
   "cell_type": "markdown",
   "id": "8253f2a7",
   "metadata": {},
   "source": [
    "Now we need to make sure that our spectra our reasonable, compared to known results. Let's compare with the CAMB simulation code."
   ]
  },
  {
   "cell_type": "code",
   "execution_count": 17,
   "id": "6f3aa2ea",
   "metadata": {},
   "outputs": [
    {
     "name": "stdout",
     "output_type": "stream",
     "text": [
      "Using CAMB 1.3.2 installed at /Users/lisaleemcb/miniconda3/lib/python3.7/site-packages/camb\n"
     ]
    }
   ],
   "source": [
    "import sys, platform, os\n",
    "import camb\n",
    "from camb import model, initialpower\n",
    "print('Using CAMB %s installed at %s'%(camb.__version__,os.path.dirname(camb.__file__)))"
   ]
  },
  {
   "cell_type": "code",
   "execution_count": 18,
   "id": "b355db29",
   "metadata": {},
   "outputs": [],
   "source": [
    "#Set up a new set of parameters for CAMB\n",
    "pars = camb.CAMBparams()\n",
    "#This function sets up CosmoMC-like settings, with one massive neutrino and helium set using BBN consistency\n",
    "pars.set_cosmology(H0=67.5, ombh2=0.022, omch2=0.122, mnu=0.06, omk=0, tau=0.06)\n",
    "pars.InitPower.set_params(As=2e-9, ns=0.965, r=0)\n",
    "pars.set_for_lmax(2500, lens_potential_accuracy=0);\n"
   ]
  },
  {
   "cell_type": "code",
   "execution_count": 19,
   "id": "65a643bb",
   "metadata": {},
   "outputs": [
    {
     "name": "stderr",
     "output_type": "stream",
     "text": [
      "WARNING:root:get_matter_power_spectrum using larger k_max than input parameter Transfer.kmax\n"
     ]
    }
   ],
   "source": [
    "#Now get matter power spectra and sigma8 at redshift 0 and 0.8\n",
    "pars = camb.CAMBparams()\n",
    "pars.set_cosmology(H0=67.5, ombh2=0.022, omch2=0.122)\n",
    "pars.InitPower.set_params(ns=0.965)\n",
    "#Note non-linear corrections couples to smaller scales than you want\n",
    "pars.set_matter_power(redshifts=[6.0155], kmax=2.0)\n",
    "\n",
    "#Linear spectra\n",
    "pars.NonLinear = model.NonLinear_none\n",
    "results = camb.get_results(pars)\n",
    "kh, z, pk = results.get_matter_power_spectrum(minkh=bins_field[0], maxkh=bins_field[-5],\n",
    "                                              npoints=200)\n",
    "s8 = np.array(results.get_sigma8())\n",
    "\n",
    "#Non-Linear spectra (Halofit)\n",
    "pars.NonLinear = model.NonLinear_both\n",
    "results.calc_power_spectra(pars)\n",
    "kh_nonlin, z_nonlin, pk_nonlin = results.get_matter_power_spectrum(minkh=bins_field[0],\n",
    "                                                                   maxkh=bins_field[-5],\n",
    "                                                                   npoints = 200)\n"
   ]
  },
  {
   "cell_type": "code",
   "execution_count": 20,
   "id": "36657dfc",
   "metadata": {},
   "outputs": [],
   "source": [
    "#calculate results for these parameters\n",
    "results = camb.get_results(pars)"
   ]
  },
  {
   "cell_type": "code",
   "execution_count": 21,
   "id": "c0d72085",
   "metadata": {},
   "outputs": [
    {
     "data": {
      "image/png": "[encoded data removed]",
      "text/plain": [
       "<Figure size 720x576 with 1 Axes>"
      ]
     },
     "metadata": {
      "needs_background": "light"
     },
     "output_type": "display_data"
    }
   ],
   "source": [
    "#for i, (redshift, line) in enumerate(zip(z,['-','--'])):\n",
    "fig = plt.figure()\n",
    "\n",
    "fig.set_figheight(8)\n",
    "fig.set_figwidth(10)\n",
    "\n",
    "plt.loglog(kh, pk[0,:], color='k', ls='--')\n",
    "plt.loglog(kh_nonlin, pk_nonlin[0,:], color='r', ls='--')\n",
    "    \n",
    "#plt.loglog(k_log, density_pspec_log)\n",
    "plt.loglog(k[0:12], P_m[0:12])\n",
    "plt.loglog(bins_field[:-1], p_k_field)\n",
    "\n",
    "plt.xlabel('k/h Mpc');\n",
    "plt.legend(['linear','non-linear', 'my code log', 'powerbox'], loc='lower left');\n",
    "plt.title('Matter power at z=6.0');"
   ]
  },
  {
   "cell_type": "markdown",
   "id": "7b5d0126",
   "metadata": {},
   "source": [
    "### Simulating the 21cm brightness temperature field"
   ]
  },
  {
   "cell_type": "markdown",
   "id": "e822f539",
   "metadata": {},
   "source": [
    "We also want to cross-correlate our intensities with the 21cm field.  In order to simulate it, we use Paul La Plante's 'quick and dirty' simulation code package <\\code zreion>."
   ]
  },
  {
   "cell_type": "code",
   "execution_count": 22,
   "id": "3acfa21b",
   "metadata": {},
   "outputs": [],
   "source": [
    "import h5py\n",
    "\n",
    "from zreion import apply_zreion_fast\n",
    "from astropy.cosmology import Planck15"
   ]
  },
  {
   "cell_type": "code",
   "execution_count": 23,
   "id": "2c339baa",
   "metadata": {},
   "outputs": [],
   "source": [
    "# parameters\n",
    "box = 80.0  # Mpc/h\n",
    "omegam = Planck15.Om0\n",
    "omegab = Planck15.Ob0\n",
    "hubble0 = Planck15.H0\n",
    "\n",
    "alpha = 0.564\n",
    "k_0 = 0.185 # Mpc/h\n",
    "\n",
    "# global temperature as a function of redshift\n",
    "def t0(z):\n",
    "    return 38.6 * hubble0.value * (omegab / 0.045) * np.sqrt(0.27 / omegam * (1 + z) / 10)"
   ]
  },
  {
   "cell_type": "code",
   "execution_count": 24,
   "id": "0b757182",
   "metadata": {},
   "outputs": [],
   "source": [
    "def gen_21cm_fields(delta, box= 80.0, zmean=7, alpha=0.11, k0=0.05):\n",
    "    # compute zreion field\n",
    "    print(\"computing zreion...\")\n",
    "    zreion = apply_zreion_fast(delta, zmean, alpha, k0, box, deconvolve=False)\n",
    "    \n",
    "    return zreion\n",
    "\n",
    "def get_21cm_fields(z, zreion, delta):\n",
    "    #print(\"computing t21 at z=\", z, \"...\")\n",
    "    ion_field = np.where(zreion > z, 1.0, 0.0)\n",
    "    t21_field = t0(z) * (1 + delta) * (1 - ion_field)\n",
    "    \n",
    "    return ion_field, t21_field"
   ]
  },
  {
   "cell_type": "code",
   "execution_count": 25,
   "id": "1453e346",
   "metadata": {},
   "outputs": [
    {
     "name": "stdout",
     "output_type": "stream",
     "text": [
      "computing zreion...\n"
     ]
    }
   ],
   "source": [
    "zreion = gen_21cm_fields(delta)"
   ]
  },
  {
   "cell_type": "code",
   "execution_count": 26,
   "id": "487744f1",
   "metadata": {},
   "outputs": [],
   "source": [
    "ion_field, t21_field = get_21cm_fields(7, zreion, delta)"
   ]
  },
  {
   "cell_type": "code",
   "execution_count": 27,
   "id": "9498d90d",
   "metadata": {},
   "outputs": [
    {
     "name": "stdout",
     "output_type": "stream",
     "text": [
      "computing zreion...\n",
      "computing zreion...\n",
      "computing zreion...\n",
      "computing zreion...\n",
      "computing zreion...\n"
     ]
    }
   ],
   "source": [
    "zreion1 = gen_21cm_fields(delta, alpha = 0.05, k0 = 0.3)\n",
    "zreion2 = gen_21cm_fields(delta, alpha = 0.11, k0 = 0.05)\n",
    "zreion3 = gen_21cm_fields(delta, alpha = 0.15, k0 = 0.1)\n",
    "zreion4 = gen_21cm_fields(delta, alpha = 0.25, k0 = 0.07)\n",
    "zreion5 = gen_21cm_fields(delta, alpha = alpha, k0 = k_0)"
   ]
  },
  {
   "cell_type": "code",
   "execution_count": 28,
   "id": "aa6df3a3",
   "metadata": {},
   "outputs": [],
   "source": [
    "redshifts = np.linspace(5,15)\n",
    "\n",
    "def create_reion_history(redshifts, zreion, delta):\n",
    "    neutral_frac = np.zeros_like(redshifts)\n",
    "    for i, z in enumerate(redshifts):\n",
    "        ion_field, t21_field = get_21cm_fields(z, zreion, delta)\n",
    "        ion_frac = ion_field.sum() / 512**3\n",
    "        neutral_frac[i] = 1 - ion_frac\n",
    "        \n",
    "    return neutral_frac"
   ]
  },
  {
   "cell_type": "code",
   "execution_count": 29,
   "id": "91f3b108",
   "metadata": {},
   "outputs": [],
   "source": [
    "neutral_frac1 = create_reion_history(redshifts, zreion1, delta)\n",
    "neutral_frac2 = create_reion_history(redshifts, zreion2, delta)\n",
    "neutral_frac3 = create_reion_history(redshifts, zreion3, delta)\n",
    "neutral_frac4 = create_reion_history(redshifts, zreion4, delta)\n",
    "neutral_frac5 = create_reion_history(redshifts, zreion5, delta)"
   ]
  },
  {
   "cell_type": "code",
   "execution_count": 30,
   "id": "187bfed5",
   "metadata": {},
   "outputs": [
    {
     "data": {
      "text/plain": [
       "<matplotlib.legend.Legend at 0x7fcf31f47890>"
      ]
     },
     "execution_count": 30,
     "metadata": {},
     "output_type": "execute_result"
    },
    {
     "data": {
      "image/png": "[encoded data removed]",
      "text/plain": [
       "<Figure size 720x576 with 1 Axes>"
      ]
     },
     "metadata": {
      "needs_background": "light"
     },
     "output_type": "display_data"
    }
   ],
   "source": [
    "fig = plt.figure(figsize=(10,8))\n",
    "\n",
    "plt.plot(redshifts, neutral_frac1, label='1')\n",
    "plt.plot(redshifts, neutral_frac2, label='Paul')\n",
    "plt.plot(redshifts, neutral_frac3, label='3')\n",
    "plt.plot(redshifts, neutral_frac4, label='4')\n",
    "plt.plot(redshifts, neutral_frac5, label='Battaglia')\n",
    "\n",
    "plt.axhline(.5, color='gray', ls='--')\n",
    "plt.axvline(7, color='gray', ls='--')\n",
    "plt.axvline(10, color='gray', ls='--')\n",
    "\n",
    "plt.xlabel('redshift', fontsize=16)\n",
    "plt.ylabel('neutral fraction', fontsize=16)\n",
    "\n",
    "plt.legend()"
   ]
  },
  {
   "cell_type": "code",
   "execution_count": 31,
   "id": "d6ca575f",
   "metadata": {},
   "outputs": [],
   "source": [
    "redshifts = np.linspace(5,15)\n",
    "\n",
    "neutral_frac = np.zeros_like(redshifts)\n",
    "\n",
    "for i, z in enumerate(redshifts):\n",
    "    ion_field, t21_field = get_21cm_fields(z, zreion, delta)\n",
    "    ion_frac = ion_field.sum() / 512**3\n",
    "    neutral_frac[i] = 1 - ion_frac"
   ]
  },
  {
   "cell_type": "code",
   "execution_count": 32,
   "id": "f5e09968",
   "metadata": {},
   "outputs": [
    {
     "data": {
      "text/plain": [
       "<matplotlib.image.AxesImage at 0x7fcee036dc90>"
      ]
     },
     "execution_count": 32,
     "metadata": {},
     "output_type": "execute_result"
    },
    {
     "data": {
      "image/png": "[encoded data removed]",
      "text/plain": [
       "<Figure size 864x576 with 3 Axes>"
      ]
     },
     "metadata": {
      "needs_background": "light"
     },
     "output_type": "display_data"
    }
   ],
   "source": [
    "from matplotlib.colors import LogNorm\n",
    "\n",
    "fig, ax = plt.subplots(1,3, figsize=(12,8))\n",
    "\n",
    "ax[0].imshow(delta.sum(axis=2))\n",
    "ax[1].imshow(ion_field.sum(axis=2))\n",
    "ax[2].imshow(t21_field.sum(axis=2))"
   ]
  },
  {
   "cell_type": "markdown",
   "id": "e1cb417d",
   "metadata": {},
   "source": [
    "### Checking normalisation of luminosity functions "
   ]
  },
  {
   "cell_type": "markdown",
   "id": "a3375b1c",
   "metadata": {},
   "source": [
    "Next we are going to need to generate some simulated specific intensities from our box our halos. This is done by 'painting' a luminosity onto the halos using a power law prescription,\n",
    "\n",
    "$$\n",
    "L(M) = L_0 \\left( \\frac{M}{M_0} \\right)^{\\alpha}\n",
    "$$"
   ]
  },
  {
   "cell_type": "markdown",
   "id": "4c6e5f24",
   "metadata": {},
   "source": [
    "Let's plot this relation for our collection our halos,"
   ]
  },
  {
   "cell_type": "code",
   "execution_count": 33,
   "id": "23700648",
   "metadata": {},
   "outputs": [],
   "source": [
    "import astropy.constants as const\n",
    "from astropy.cosmology import Planck15"
   ]
  },
  {
   "cell_type": "code",
   "execution_count": 34,
   "id": "099903af",
   "metadata": {},
   "outputs": [],
   "source": [
    "H_I_power = 1.3\n",
    "\n",
    "z = 6.0\n",
    "\n",
    "L = 2.0 / 3.0\n",
    "M = 1.0\n",
    "H = 4.0 / 3.0\n",
    "\n",
    "power_indices = [H_I_power, L, M]\n",
    "\n",
    "L_solar=3.828e26\n",
    "L_CII = 10e6\n",
    "L_OIII = 10e9\n",
    "\n",
    "luminosities_L = utils.mass2luminosity(masses, power=L)\n",
    "luminosities_M = utils.mass2luminosity(masses, power=M)\n",
    "luminosities_H = utils.mass2luminosity(masses, power=H)\n",
    "\n",
    "intensities_L = utils.specific_intensity(z, L=luminosities_L)\n",
    "intensities_M = utils.specific_intensity(z, L=luminosities_M)\n",
    "intensities_H = utils.specific_intensity(z, L=luminosities_H)"
   ]
  },
  {
   "cell_type": "code",
   "execution_count": 35,
   "id": "95488432",
   "metadata": {},
   "outputs": [
    {
     "data": {
      "text/plain": [
       "Text(0, 0.5, 'luminosities')"
      ]
     },
     "execution_count": 35,
     "metadata": {},
     "output_type": "execute_result"
    },
    {
     "data": {
      "image/png": "[encoded data removed]",
      "text/plain": [
       "<Figure size 432x288 with 1 Axes>"
      ]
     },
     "metadata": {
      "needs_background": "light"
     },
     "output_type": "display_data"
    }
   ],
   "source": [
    "fig, ax = plt.subplots()\n",
    "\n",
    "ax.scatter(masses, luminosities_L)\n",
    "ax.scatter(masses, luminosities_M)\n",
    "ax.scatter(masses, luminosities_H)\n",
    "ax.set_xscale('log')\n",
    "ax.set_yscale('log')\n",
    "\n",
    "ax.set_xlabel('masses')\n",
    "ax.set_ylabel('luminosities')"
   ]
  },
  {
   "cell_type": "code",
   "execution_count": 36,
   "id": "545bbbee",
   "metadata": {},
   "outputs": [
    {
     "data": {
      "text/plain": [
       "(<Quantity 0.35125622 Jy / sr>,\n",
       " <Quantity 389.09235634 Jy / sr>,\n",
       " <Quantity 631680.50596367 Jy / sr>)"
      ]
     },
     "execution_count": 36,
     "metadata": {},
     "output_type": "execute_result"
    }
   ],
   "source": [
    "np.mean(intensities_L), np.mean(intensities_M), np.mean(intensities_H)"
   ]
  },
  {
   "cell_type": "markdown",
   "id": "8474891a",
   "metadata": {},
   "source": [
    "#### Checking unit conversion"
   ]
  },
  {
   "cell_type": "markdown",
   "id": "79a619f4",
   "metadata": {},
   "source": [
    "Intensities are often given in units of Janskies.  Let's make sure that we are converting correctly from one to the other, and they are comparable to the Lidz and Beane result (https://arxiv.org/pdf/1806.02796.pdf)"
   ]
  },
  {
   "cell_type": "code",
   "execution_count": 38,
   "id": "f0d67cf0",
   "metadata": {},
   "outputs": [
    {
     "name": "stdout",
     "output_type": "stream",
     "text": [
      "Lidz:  310.0  My code:  296.85416094619967 Jy / sr\n",
      "Lidz:  710.0  My code:  675.7372227764706 Jy / sr\n",
      "Lidz:  1100.0 My code:  1065.0564106095567 Jy / sr\n"
     ]
    }
   ],
   "source": [
    "print('Lidz: ', 3.1e2,\n",
    "      ' My code: ', utils.specific_intensity(9.41))\n",
    "print('Lidz: ', 7.1e2,\n",
    "      ' My code: ', utils.specific_intensity(7.37))\n",
    "print('Lidz: ', 1.1e3,\n",
    "      'My code: ', utils.specific_intensity(6.43))"
   ]
  },
  {
   "cell_type": "code",
   "execution_count": 37,
   "id": "3767db40",
   "metadata": {},
   "outputs": [],
   "source": [
    "def gen_spectra(fields): \n",
    "\n",
    "    lines_indices = np.zeros((int(comb(runs, 2) + runs), 2))\n",
    "    pspecs = np.zeros((int(comb(runs, 2) + runs), n_bins))\n",
    "    pspecs_dim = np.zeros((int(comb(runs, 2) + runs), n_bins))\n",
    "    \n",
    "    counter = 0\n",
    "    for i in range(runs):\n",
    "        for j in range(i, runs):\n",
    "            print('Calculating correlation for Lines', i, ' and ', j)\n",
    "            print('with power indices')\n",
    "            k, pspec, pspec_dim = analysis.pspec(r_vec,\n",
    "                            [fields[i], fields[j]],\n",
    "                            n_bins=n_bins, bin_scale='log')\n",
    "\n",
    "            pspecs[counter] = pspec\n",
    "            pspecs_dim[counter] = pspec_dim\n",
    "\n",
    "            lines_indices[counter,0] = i \n",
    "            lines_indices[counter,1] = j\n",
    "\n",
    "            counter += 1\n",
    "            \n",
    "    return k, pspecs, pspecs_dim"
   ]
  },
  {
   "cell_type": "code",
   "execution_count": 39,
   "id": "52999844",
   "metadata": {},
   "outputs": [
    {
     "data": {
      "text/plain": [
       "array([[0., 0.],\n",
       "       [0., 1.],\n",
       "       [0., 2.],\n",
       "       [1., 1.],\n",
       "       [1., 2.],\n",
       "       [2., 2.]])"
      ]
     },
     "execution_count": 39,
     "metadata": {},
     "output_type": "execute_result"
    }
   ],
   "source": [
    "indices = utils.lines_indices()\n",
    "indices"
   ]
  },
  {
   "cell_type": "code",
   "execution_count": 42,
   "id": "779a26e3",
   "metadata": {},
   "outputs": [],
   "source": [
    "# shot_0 = 80**3 * a_0 * I_0.mean()**2 / len(masses) \n",
    "# shot_1 = 80**3 * a_1 * I_1.mean()**2 / len(masses) \n",
    "# shot_2 = 80**3 * a_2 * I_2.mean()**2 / len(masses)"
   ]
  },
  {
   "cell_type": "code",
   "execution_count": 43,
   "id": "f7fb0d4e",
   "metadata": {},
   "outputs": [
    {
     "name": "stdout",
     "output_type": "stream",
     "text": [
      "power = 1.3\n",
      "mean intensity =  171.7529671626317 Jy / sr\n",
      " \n",
      "power = 0.6666666666666666\n",
      "mean intensity =  35125.62161645958 Jy / sr\n",
      " \n",
      "power = 1.0\n",
      "mean intensity =  23345.54138022396 Jy / sr\n",
      " \n"
     ]
    }
   ],
   "source": [
    "I_fields_old = np.zeros((runs, 512, 512, 512))\n",
    "scalings_old = [0.000581, 10**5, 60]\n",
    "\n",
    "for i, power in enumerate(power_indices):\n",
    "    print('power =', power)\n",
    "    intensities = utils.specific_intensity(z,\n",
    "                            L=scalings_old[i] * utils.mass2luminosity(masses, power=power, mass_0=1.0))\n",
    "\n",
    "    print('mean intensity = ', intensities.mean())\n",
    "    print(' ')\n",
    "    # lumens += np.random.lognormal(mean=0.0, sigma=2.0, size=None)\n",
    "    I_voxels, I_edges = np.histogramdd(coords, bins=512, weights=intensities)\n",
    "    I_fields_old[i] = I_voxels"
   ]
  },
  {
   "cell_type": "code",
   "execution_count": 44,
   "id": "8ec12d92",
   "metadata": {},
   "outputs": [
    {
     "name": "stdout",
     "output_type": "stream",
     "text": [
      "power = 1.3\n",
      "mean intensity =  295616.1224830153 Jy / sr\n",
      " \n",
      "power = 0.6666666666666666\n",
      "mean intensity =  35125.62161645958 Jy / sr\n",
      " \n",
      "power = 1.0\n",
      "mean intensity =  23345.54138022396 Jy / sr\n",
      " \n"
     ]
    }
   ],
   "source": [
    "I_fields = np.zeros((runs, 512, 512, 512))\n",
    "scalings = [1, 10**5, 60]\n",
    "\n",
    "for i, power in enumerate(power_indices):\n",
    "    print('power =', power)\n",
    "    intensities = utils.specific_intensity(z,\n",
    "                            L=scalings[i] * utils.mass2luminosity(masses, power=power, mass_0=1.0))\n",
    "\n",
    "    print('mean intensity = ', intensities.mean())\n",
    "    print(' ')\n",
    "    # lumens += np.random.lognormal(mean=0.0, sigma=2.0, size=None)\n",
    "    I_voxels, I_edges = np.histogramdd(coords, bins=512, weights=intensities)\n",
    "    I_fields[i] = I_voxels"
   ]
  },
  {
   "cell_type": "code",
   "execution_count": 45,
   "id": "d3803dc2",
   "metadata": {},
   "outputs": [
    {
     "name": "stdout",
     "output_type": "stream",
     "text": [
      "power= 1.3\n",
      "mean=  525384632064.2446 solLum\n",
      "power= 0.6666666666666666\n",
      "mean=  197411872.38227138 solLum\n",
      "power= 1.0\n",
      "mean=  5356456389.954758 solLum\n"
     ]
    },
    {
     "data": {
      "text/plain": [
       "<matplotlib.legend.Legend at 0x7ff389a33550>"
      ]
     },
     "execution_count": 45,
     "metadata": {},
     "output_type": "execute_result"
    },
    {
     "data": {
      "image/png": "[encoded data removed]",
      "text/plain": [
       "<Figure size 720x576 with 1 Axes>"
      ]
     },
     "metadata": {
      "needs_background": "light"
     },
     "output_type": "display_data"
    }
   ],
   "source": [
    "fig, ax = plt.subplots(figsize=(10,8))\n",
    "\n",
    "for i, power in enumerate(power_indices):\n",
    "    print('power=', power)\n",
    "    lumens = np.sqrt(scalings[i]) * utils.mass2luminosity(masses, power=power, mass_0=1.0)\n",
    "    print('mean= ', lumens.mean())\n",
    "    n, bins, _ = ax.hist(np.log(lumens.value), 100, alpha = 0.5, lw=3, log=True, label=r'$\\alpha=$' + str(power))\n",
    "    \n",
    "ax.set_xlabel(r'log[L]', fontsize=16)\n",
    "ax.set_ylabel(r'log[N(L)]', fontsize=16)\n",
    "\n",
    "fig.legend()\n",
    "\n",
    "    \n",
    "    # print('shot noise for index, alpha=', power, ': is ', integral)\n",
    "    "
   ]
  },
  {
   "cell_type": "code",
   "execution_count": 46,
   "id": "d8b67369",
   "metadata": {},
   "outputs": [],
   "source": [
    "def set_I_mean(Lidz_pspec_log, P_x):\n",
    "    return np.sqrt(Lidz_pspec_log / P_x)"
   ]
  },
  {
   "cell_type": "markdown",
   "id": "20244f4d",
   "metadata": {},
   "source": [
    "The shot noise can be roughly approximated as such. Since the shot noise is due to number of sources, we expect the shot noise to increase with decreasing number density.  If we assume it scales inversely, then this is roughly,\n",
    "$$\n",
    "\\sigma_{\\text{shot}} \\propto \\frac{1}{\\bar{n}} = \\frac{V}{N}\n",
    "$$\n",
    "The dimensions of the power spectrum are,\n",
    "$$\n",
    "[\\text{field}^2][V]\n",
    "$$\n",
    "To be consistent dimensionally, we multiply by the mean of the field (in our case, $T$),\n",
    "$$\n",
    "\\sigma_{\\text{shot}} \\sim \\frac{{<\\tilde{T}^2>} V}{N}\n",
    "$$"
   ]
  },
  {
   "cell_type": "code",
   "execution_count": 47,
   "id": "2d8d4894",
   "metadata": {},
   "outputs": [],
   "source": [
    "#shot_0, shot_1, shot_2"
   ]
  },
  {
   "cell_type": "markdown",
   "id": "a1a2a40a",
   "metadata": {},
   "source": [
    "### Generate spectra"
   ]
  },
  {
   "cell_type": "markdown",
   "id": "02f4e6b3",
   "metadata": {},
   "source": [
    "Now that we have our 21cm brightness temperature field, we can go ahead and calculate our spectra."
   ]
  },
  {
   "cell_type": "code",
   "execution_count": 48,
   "id": "8a757fc1",
   "metadata": {},
   "outputs": [
    {
     "name": "stdout",
     "output_type": "stream",
     "text": [
      "Calculating correlation for Lines 0  and  0\n",
      "voxel size is:  0.15655577299412915  Mpc\n",
      "voxel volume is:  [0.00383714]  Mpc^3\n",
      "survey volume is:  [515011.75700904]  Mpc^3\n",
      "bin scale is: log\n",
      "min resolution: k= 0.07853981633974483\n",
      "maximum k-mode: 20.02765316663493\n",
      "Calculating correlation for Lines 0  and  1\n",
      "voxel size is:  0.15655577299412915  Mpc\n",
      "voxel volume is:  [0.00383714]  Mpc^3\n",
      "survey volume is:  [515011.75700904]  Mpc^3\n",
      "bin scale is: log\n",
      "min resolution: k= 0.07853981633974483\n",
      "maximum k-mode: 20.02765316663493\n",
      "Calculating correlation for Lines 0  and  2\n",
      "voxel size is:  0.15655577299412915  Mpc\n",
      "voxel volume is:  [0.00383714]  Mpc^3\n",
      "survey volume is:  [515011.75700904]  Mpc^3\n",
      "bin scale is: log\n",
      "min resolution: k= 0.07853981633974483\n",
      "maximum k-mode: 20.02765316663493\n",
      "Calculating correlation for Lines 1  and  1\n",
      "voxel size is:  0.15655577299412915  Mpc\n",
      "voxel volume is:  [0.00383714]  Mpc^3\n",
      "survey volume is:  [515011.75700904]  Mpc^3\n",
      "bin scale is: log\n",
      "min resolution: k= 0.07853981633974483\n",
      "maximum k-mode: 20.02765316663493\n",
      "Calculating correlation for Lines 1  and  2\n",
      "voxel size is:  0.15655577299412915  Mpc\n",
      "voxel volume is:  [0.00383714]  Mpc^3\n",
      "survey volume is:  [515011.75700904]  Mpc^3\n",
      "bin scale is: log\n",
      "min resolution: k= 0.07853981633974483\n",
      "maximum k-mode: 20.02765316663493\n",
      "Calculating correlation for Lines 2  and  2\n",
      "voxel size is:  0.15655577299412915  Mpc\n",
      "voxel volume is:  [0.00383714]  Mpc^3\n",
      "survey volume is:  [515011.75700904]  Mpc^3\n",
      "bin scale is: log\n",
      "min resolution: k= 0.07853981633974483\n",
      "maximum k-mode: 20.02765316663493\n"
     ]
    }
   ],
   "source": [
    "spectra_old = analysis.gen_spectra(r_vec, I_fields_old)"
   ]
  },
  {
   "cell_type": "code",
   "execution_count": 49,
   "id": "3f88bf12",
   "metadata": {},
   "outputs": [
    {
     "data": {
      "text/plain": [
       "array([[0., 0.],\n",
       "       [0., 1.],\n",
       "       [0., 2.],\n",
       "       [1., 1.],\n",
       "       [1., 2.],\n",
       "       [2., 2.]])"
      ]
     },
     "execution_count": 49,
     "metadata": {},
     "output_type": "execute_result"
    }
   ],
   "source": [
    "indices"
   ]
  },
  {
   "cell_type": "code",
   "execution_count": 51,
   "id": "70eac1f7",
   "metadata": {},
   "outputs": [
    {
     "name": "stdout",
     "output_type": "stream",
     "text": [
      "Calculating correlation for Lines 0  and  0\n",
      "voxel size is:  0.15655577299412915  Mpc\n",
      "voxel volume is:  [0.00383714]  Mpc^3\n",
      "survey volume is:  [515011.75700904]  Mpc^3\n",
      "bin scale is: log\n",
      "min resolution: k= 0.07853981633974483\n",
      "maximum k-mode: 20.02765316663493\n",
      "Calculating correlation for Lines 0  and  1\n",
      "voxel size is:  0.15655577299412915  Mpc\n",
      "voxel volume is:  [0.00383714]  Mpc^3\n",
      "survey volume is:  [515011.75700904]  Mpc^3\n",
      "bin scale is: log\n",
      "min resolution: k= 0.07853981633974483\n",
      "maximum k-mode: 20.02765316663493\n",
      "Calculating correlation for Lines 0  and  2\n",
      "voxel size is:  0.15655577299412915  Mpc\n",
      "voxel volume is:  [0.00383714]  Mpc^3\n",
      "survey volume is:  [515011.75700904]  Mpc^3\n",
      "bin scale is: log\n",
      "min resolution: k= 0.07853981633974483\n",
      "maximum k-mode: 20.02765316663493\n",
      "Calculating correlation for Lines 1  and  1\n",
      "voxel size is:  0.15655577299412915  Mpc\n",
      "voxel volume is:  [0.00383714]  Mpc^3\n",
      "survey volume is:  [515011.75700904]  Mpc^3\n",
      "bin scale is: log\n",
      "min resolution: k= 0.07853981633974483\n",
      "maximum k-mode: 20.02765316663493\n",
      "Calculating correlation for Lines 1  and  2\n",
      "voxel size is:  0.15655577299412915  Mpc\n",
      "voxel volume is:  [0.00383714]  Mpc^3\n",
      "survey volume is:  [515011.75700904]  Mpc^3\n",
      "bin scale is: log\n",
      "min resolution: k= 0.07853981633974483\n",
      "maximum k-mode: 20.02765316663493\n",
      "Calculating correlation for Lines 2  and  2\n",
      "voxel size is:  0.15655577299412915  Mpc\n",
      "voxel volume is:  [0.00383714]  Mpc^3\n",
      "survey volume is:  [515011.75700904]  Mpc^3\n",
      "bin scale is: log\n",
      "min resolution: k= 0.07853981633974483\n",
      "maximum k-mode: 20.02765316663493\n"
     ]
    }
   ],
   "source": [
    "I_fields[0] = t21_field\n",
    "spectra = analysis.gen_spectra(r_vec, I_fields)"
   ]
  },
  {
   "cell_type": "code",
   "execution_count": 50,
   "id": "9104f4ad",
   "metadata": {},
   "outputs": [
    {
     "ename": "NameError",
     "evalue": "name 'spectra' is not defined",
     "output_type": "error",
     "traceback": [
      "\u001b[0;31m---------------------------------------------------------------------------\u001b[0m",
      "\u001b[0;31mNameError\u001b[0m                                 Traceback (most recent call last)",
      "\u001b[0;32m<ipython-input-50-6a29e0cf50b4>\u001b[0m in \u001b[0;36m<module>\u001b[0;34m\u001b[0m\n\u001b[0;32m----> 1\u001b[0;31m np.savez('spectra', P_21cm_21cm=spectra[1][0], P_21cm_CII=spectra[1][1],\n\u001b[0m\u001b[1;32m      2\u001b[0m                     \u001b[0mP_21cm_OIII\u001b[0m\u001b[0;34m=\u001b[0m\u001b[0mspectra\u001b[0m\u001b[0;34m[\u001b[0m\u001b[0;36m1\u001b[0m\u001b[0;34m]\u001b[0m\u001b[0;34m[\u001b[0m\u001b[0;36m2\u001b[0m\u001b[0;34m]\u001b[0m\u001b[0;34m,\u001b[0m \u001b[0mP_CII_CII\u001b[0m\u001b[0;34m=\u001b[0m\u001b[0mspectra\u001b[0m\u001b[0;34m[\u001b[0m\u001b[0;36m1\u001b[0m\u001b[0;34m]\u001b[0m\u001b[0;34m[\u001b[0m\u001b[0;36m3\u001b[0m\u001b[0;34m]\u001b[0m\u001b[0;34m,\u001b[0m\u001b[0;34m\u001b[0m\u001b[0;34m\u001b[0m\u001b[0m\n\u001b[1;32m      3\u001b[0m                     P_CII_OIII=spectra[1][4], P_OIII_OIII=spectra[1][5])\n",
      "\u001b[0;31mNameError\u001b[0m: name 'spectra' is not defined"
     ]
    }
   ],
   "source": [
    "np.savez('spectra', P_21cm_21cm=spectra[1][0], P_21cm_CII=spectra[1][1],\n",
    "                    P_21cm_OIII=spectra[1][2], P_CII_CII=spectra[1][3],\n",
    "                    P_CII_OIII=spectra[1][4], P_OIII_OIII=spectra[1][5])"
   ]
  },
  {
   "cell_type": "code",
   "execution_count": 42,
   "id": "f318518e",
   "metadata": {},
   "outputs": [
    {
     "data": {
      "text/plain": [
       "['P_21cm_21cm',\n",
       " 'P_21cm_CII',\n",
       " 'P_21cm_OIII',\n",
       " 'P_CII_CII',\n",
       " 'P_CII_OIII',\n",
       " 'P_OIII_OIII']"
      ]
     },
     "execution_count": 42,
     "metadata": {},
     "output_type": "execute_result"
    }
   ],
   "source": [
    "spectra = np.load('spectra.npz')\n",
    "spectra.files"
   ]
  },
  {
   "cell_type": "code",
   "execution_count": 41,
   "id": "7960f1d6",
   "metadata": {},
   "outputs": [
    {
     "data": {
      "text/plain": [
       "[<matplotlib.lines.Line2D at 0x7fcf31c17150>]"
      ]
     },
     "execution_count": 41,
     "metadata": {},
     "output_type": "execute_result"
    },
    {
     "data": {
      "image/png": "[encoded data removed]",
      "text/plain": [
       "<Figure size 432x288 with 1 Axes>"
      ]
     },
     "metadata": {
      "needs_background": "light"
     },
     "output_type": "display_data"
    }
   ],
   "source": [
    "plt.loglog(k, spectra['P_21cm_21cm'])"
   ]
  },
  {
   "cell_type": "code",
   "execution_count": null,
   "id": "c0c7c1c1",
   "metadata": {},
   "outputs": [],
   "source": [
    "indices"
   ]
  },
  {
   "cell_type": "code",
   "execution_count": 43,
   "id": "2561f2e6",
   "metadata": {},
   "outputs": [
    {
     "data": {
      "text/plain": [
       "['P_21cm_21cm',\n",
       " 'P_21cm_CII',\n",
       " 'P_21cm_OIII',\n",
       " 'P_CII_CII',\n",
       " 'P_CII_OIII',\n",
       " 'P_OIII_OIII']"
      ]
     },
     "execution_count": 43,
     "metadata": {},
     "output_type": "execute_result"
    }
   ],
   "source": [
    "spectra.files"
   ]
  },
  {
   "cell_type": "code",
   "execution_count": 49,
   "id": "4d0b552f",
   "metadata": {},
   "outputs": [
    {
     "ename": "UFuncTypeError",
     "evalue": "ufunc 'add' did not contain a loop with signature matching types (dtype('float64'), dtype('<U11')) -> None",
     "output_type": "error",
     "traceback": [
      "\u001b[0;31m---------------------------------------------------------------------------\u001b[0m",
      "\u001b[0;31mUFuncTypeError\u001b[0m                            Traceback (most recent call last)",
      "\u001b[0;32m<ipython-input-49-3db5fe0a1e4d>\u001b[0m in \u001b[0;36m<module>\u001b[0;34m\u001b[0m\n\u001b[0;32m----> 1\u001b[0;31m \u001b[0mr\u001b[0m \u001b[0;34m+\u001b[0m \u001b[0mlabel\u001b[0m\u001b[0;34m\u001b[0m\u001b[0;34m\u001b[0m\u001b[0m\n\u001b[0m",
      "\u001b[0;31mUFuncTypeError\u001b[0m: ufunc 'add' did not contain a loop with signature matching types (dtype('float64'), dtype('<U11')) -> None"
     ]
    }
   ],
   "source": [
    "r + label"
   ]
  },
  {
   "cell_type": "code",
   "execution_count": 52,
   "id": "c5b791c9",
   "metadata": {},
   "outputs": [
    {
     "ename": "UFuncTypeError",
     "evalue": "ufunc 'multiply' did not contain a loop with signature matching types (dtype('float64'), dtype('<U11')) -> None",
     "output_type": "error",
     "traceback": [
      "\u001b[0;31m---------------------------------------------------------------------------\u001b[0m",
      "\u001b[0;31mUFuncTypeError\u001b[0m                            Traceback (most recent call last)",
      "\u001b[0;32m<ipython-input-52-b235c1393f1a>\u001b[0m in \u001b[0;36m<module>\u001b[0;34m\u001b[0m\n\u001b[1;32m     10\u001b[0m \u001b[0;34m\u001b[0m\u001b[0m\n\u001b[1;32m     11\u001b[0m \u001b[0;31m#plt.loglog(k, Lidz_pspec_log, label='Lidz log')\u001b[0m\u001b[0;34m\u001b[0m\u001b[0;34m\u001b[0m\u001b[0;34m\u001b[0m\u001b[0m\n\u001b[0;32m---> 12\u001b[0;31m     \u001b[0mlegend_label\u001b[0m \u001b[0;34m=\u001b[0m \u001b[0mr\u001b[0m\u001b[0;34m*\u001b[0m\u001b[0mlabel\u001b[0m\u001b[0;34m\u001b[0m\u001b[0;34m\u001b[0m\u001b[0m\n\u001b[0m\u001b[1;32m     13\u001b[0m \u001b[0;34m\u001b[0m\u001b[0m\n\u001b[1;32m     14\u001b[0m     plt.loglog(k[1:-1], spectra[label][1:-1], marker='None',\n",
      "\u001b[0;31mUFuncTypeError\u001b[0m: ufunc 'multiply' did not contain a loop with signature matching types (dtype('float64'), dtype('<U11')) -> None"
     ]
    },
    {
     "data": {
      "image/png": "[encoded data removed]",
      "text/plain": [
       "<Figure size 720x504 with 1 Axes>"
      ]
     },
     "metadata": {
      "needs_background": "light"
     },
     "output_type": "display_data"
    }
   ],
   "source": [
    "fig, ax = plt.subplots()\n",
    "\n",
    "fig.set_figheight(7)\n",
    "fig.set_figwidth(10)\n",
    "\n",
    "line_labels = ['P_21cm_21cm', 'P_21cm_CII', 'P_21cm_OIII']\n",
    "\n",
    "for label in line_labels:\n",
    "#ax.axvline(k[9], color='black', ls='--', alpha=.2)\n",
    "\n",
    "#plt.loglog(k, Lidz_pspec_log, label='Lidz log')\n",
    "    legend_label = r*label\n",
    "\n",
    "    plt.loglog(k[1:-1], spectra[label][1:-1], marker='None',\n",
    "            label=r'x')\n",
    "\n",
    "#plt.loglog(k[1:-1], spectra[label[1:-1], marker='None',\n",
    "#        label=r'{} x {} '.format(line_labels[int(indices[3][0])],\n",
    "#                                                       line_labels[int(indices[3][1])]))\n",
    "\n",
    "#plt.loglog(k[1:-1], spectra[1][5][1:-1], marker='None',\n",
    "#        label=r'{} x {} '.format(line_labels[int(indices[5][0])],\n",
    "#                                                       line_labels[int(indices[5][1])]))\n",
    "\n",
    "\n",
    "plt.xlabel('k',fontsize=16)\n",
    "plt.ylabel('Power Spectrum', fontsize=16)\n",
    "\n",
    "plt.legend(fontsize=16)"
   ]
  },
  {
   "cell_type": "markdown",
   "id": "8c88a8d8",
   "metadata": {},
   "source": [
    "Let's plot the power spectrum, $P(k)$,"
   ]
  },
  {
   "cell_type": "code",
   "execution_count": null,
   "id": "44e9d21f",
   "metadata": {},
   "outputs": [],
   "source": [
    "fig, ax = plt.subplots()\n",
    "\n",
    "fig.set_figheight(7)\n",
    "fig.set_figwidth(10)\n",
    "\n",
    "line_labels = [r'21 cm', r'CII', r'OIII']\n",
    "\n",
    "#ax.axvline(k_log[9], color='black', ls='--', alpha=.2)\n",
    "\n",
    "#plt.loglog(k_log, Lidz_pspec_log, label='Lidz log')\n",
    "\n",
    "for i in range(len(spectra[1])):\n",
    "    plt.loglog(k_log[1:-1], spectra[1][i][1:-1], marker='None',\n",
    "        label=r'{} x {} '.format(line_labels[int(indices[i][0])],\n",
    "                                                       line_labels[int(indices[i][1])]))\n",
    "\n",
    "plt.xlabel('k',fontsize=16)\n",
    "plt.ylabel('Power Spectrum', fontsize=16)\n",
    "\n",
    "plt.legend(fontsize=16)"
   ]
  },
  {
   "cell_type": "markdown",
   "id": "48740732",
   "metadata": {},
   "source": [
    "and the dimensionless power spectrum, $\\Delta(k)$,"
   ]
  },
  {
   "cell_type": "code",
   "execution_count": null,
   "id": "aa4c5d50",
   "metadata": {},
   "outputs": [],
   "source": [
    "fig, ax = plt.subplots()\n",
    "\n",
    "fig.set_figheight(7)\n",
    "fig.set_figwidth(10)\n",
    "\n",
    "line_labels = [r'21 cm', r'CII', r'OIII']\n",
    "\n",
    "#ax.axvline(k_log[9], color='black', ls='--', alpha=.2)\n",
    "\n",
    "#plt.loglog(k_log, Lidz_pspec_log, label='Lidz log')\n",
    "\n",
    "for i in range(len(spectra[1])):\n",
    "    plt.loglog(k_log[1:-1], spectra[2][i][1:-1], marker='None',\n",
    "        label=r'{} x {} '.format(line_labels[int(indices[i][0])],\n",
    "                                                       line_labels[int(indices[i][1])]))\n",
    "\n",
    "plt.xlabel('k',fontsize=16)\n",
    "plt.ylabel('Dimesionless Power Spectrum', fontsize=16)\n",
    "\n",
    "\n",
    "plt.legend(fontsize=16)"
   ]
  },
  {
   "cell_type": "markdown",
   "id": "420861d2",
   "metadata": {},
   "source": [
    "### Comparing amplitudes with Lidz et al."
   ]
  },
  {
   "cell_type": "markdown",
   "id": "398ad386",
   "metadata": {},
   "source": [
    "We want to make sure that our spectra are reasonable."
   ]
  },
  {
   "cell_type": "code",
   "execution_count": null,
   "id": "aea15452",
   "metadata": {},
   "outputs": [],
   "source": [
    "indices"
   ]
  },
  {
   "cell_type": "markdown",
   "id": "46083dac",
   "metadata": {},
   "source": [
    "#### Autocorrelations"
   ]
  },
  {
   "cell_type": "code",
   "execution_count": null,
   "id": "82519b82",
   "metadata": {},
   "outputs": [],
   "source": [
    "P_21cm_21cm = spectra[1][0] * u.Mpc**3 * u.Jy**2 * u.steradian**(-2)\n",
    "P_CII_CII = spectra[1][3] * u.Mpc**3 * u.Jy**2 * u.steradian**(-2)\n",
    "P_OIII_OIII = spectra[1][5] * u.Mpc**3 * u.Jy**2 * u.steradian**(-2)"
   ]
  },
  {
   "cell_type": "code",
   "execution_count": null,
   "id": "c39ad6d5",
   "metadata": {},
   "outputs": [],
   "source": [
    "indices"
   ]
  },
  {
   "cell_type": "code",
   "execution_count": null,
   "id": "b0e5afb1",
   "metadata": {},
   "outputs": [],
   "source": [
    "P_N"
   ]
  },
  {
   "cell_type": "markdown",
   "id": "661b3f8d",
   "metadata": {},
   "source": [
    "#### Crosscorrelations "
   ]
  },
  {
   "cell_type": "code",
   "execution_count": null,
   "id": "efb342a5",
   "metadata": {},
   "outputs": [],
   "source": [
    "P_21cm_CII = spectra[1][1] * u.Mpc**3 * u.Jy**2 * u.steradian**(-2)\n",
    "P_21cm_OIII = spectra[1][2] * u.Mpc**3 * u.Jy**2 * u.steradian**(-2)\n",
    "P_CII_OIII = spectra[1][4] * u.Mpc**3 * u.Jy**2 * u.steradian**(-2)"
   ]
  },
  {
   "cell_type": "code",
   "execution_count": null,
   "id": "d70f4966",
   "metadata": {},
   "outputs": [],
   "source": [
    "fig, ax = plt.subplots()\n",
    "\n",
    "fig.set_figheight(7)\n",
    "fig.set_figwidth(10)\n",
    "\n",
    "line_labels = [r'21 cm', r'CII', r'OIII']\n",
    "\n",
    "#ax.axvline(k_log[9], color='black', ls='--', alpha=.2)\n",
    "\n",
    "#plt.loglog(k_log, Lidz_pspec_log, label='Lidz log')\n",
    "\n",
    "for i in range(len(spectra[1])):\n",
    "    plt.loglog(k[1:-1], spectra[1][i][1:-1], marker='None',\n",
    "        label=r'{} x {} '.format(line_labels[int(indices[i][0])],\n",
    "                                                       line_labels[int(indices[i][1])]))\n",
    "\n",
    "plt.xlabel('k',fontsize=16)\n",
    "plt.ylabel('Power Spectrum', fontsize=16)\n",
    "\n",
    "plt.legend(fontsize=16)"
   ]
  },
  {
   "cell_type": "markdown",
   "id": "891d5600",
   "metadata": {},
   "source": [
    "# Surveys"
   ]
  },
  {
   "cell_type": "markdown",
   "id": "79b96bb0",
   "metadata": {},
   "source": [
    "test with different values of the power index, alpha"
   ]
  },
  {
   "cell_type": "code",
   "execution_count": 53,
   "id": "ee0968c7",
   "metadata": {},
   "outputs": [],
   "source": [
    "def error_bars(P_x, P_line1, P_line2, P_N, W_k, N_modes):\n",
    "    sigma = (1 / np.sqrt(N_modes)) * np.sqrt(P_x**2 \n",
    "                                            + P_line1 * (P_line2 + P_N / W_k**2))\n",
    "    return sigma\n",
    "\n",
    "def var_x(P_i, W_i, P_j, W_j, P_Ni, P_Nj, P_x, N_modes):\n",
    "    W_x = np.sqrt(W_i * W_j)\n",
    "    \n",
    "    return ((P_i * W_i + P_Ni) * (P_j * W_j + P_Nj) + P_x**2 * W_x**2) / (2 * N_modes)\n",
    "    \n",
    "def var_auto(P_i, W_i, P_N, N_modes):\n",
    "    return (P_i * W_i + P_N)**2 / N_modes\n",
    "\n",
    "def calc_N_modes(k, V_surv, align='center'):\n",
    "    \n",
    "    k_vals = np.zeros(len(k) - 1)    \n",
    "    delta_k = k[1:] - k[:-1] \n",
    "\n",
    "    if align is 'left':\n",
    "        k_vals = k[:-1]\n",
    "\n",
    "    if align is 'center':\n",
    "        k_vals = (k[1:] + k[:-1]) / 2 \n",
    "\n",
    "    if align is 'right':\n",
    "        k_vals = k[1:]\n",
    "\n",
    "    N_modes = k_vals**2 * delta_k * V_surv.to_value() / (4 * np.pi**2)\n",
    "\n",
    "    return N_modes\n",
    "\n",
    "def calc_P_N(sigma_pix, V_vox, t_pix):\n",
    "    P_N = sigma_pix**2 * V_vox / t_pix\n",
    "    \n",
    "    return P_N\n",
    "\n",
    "def calc_t_pix(N_det, t_obs, Omega_surv, sigma_beam):\n",
    "    Omega_pix = 2 * np.pi * sigma_beam**2\n",
    "    \n",
    "    t_pix = N_det * t_obs / (Omega_surv / Omega_pix) \n",
    "    \n",
    "    return t_pix.to(u.s, equivalencies=u.dimensionless_angles())\n",
    "\n",
    "def calc_L_perp(z, Omega):\n",
    "    # This assumes a square survey   \n",
    "    return np.sqrt(Planck15.comoving_distance(z)**2 \\\n",
    "            * Omega).to(u.Mpc, equivalencies=u.dimensionless_angles()) * Planck15.h\n",
    "\n",
    "def calc_L_para(z, nu_rest, delta_nu):\n",
    "    return ((const.c / Planck15.H(z)) * delta_nu * (1 + z)**2 / \\\n",
    "            nu_rest).to(u.Mpc) * Planck15.h\n",
    "\n",
    "def calc_V(z, width_perp, width_para, nu_rest):\n",
    "    L_perp = calc_L_perp(z, width_perp)\n",
    "    L_para = calc_L_para(z, nu_rest, width_para)\n",
    "    \n",
    "    return L_perp**2 * L_para\n",
    "\n",
    "def calc_V_vox(z, sigma_beam, delta_nu, nu_rest):\n",
    "    Omega_beam = sigma_beam**2\n",
    "    V_vox = calc_V(z, Omega_beam, delta_nu, nu_rest)\n",
    "    \n",
    "    return V_vox\n",
    "\n",
    "def calc_V_survey(z, Omega_surv, B_nu, nu_rest):\n",
    "    V_survey = calc_V(z, Omega_surv, B_nu, nu_rest)\n",
    "    \n",
    "    return V_survey\n",
    "\n",
    "def calc_V_surv_generic(z,lambda_rest, Omega_surv, B_nu):\n",
    "    A_s = Omega_surv  \n",
    "    B_nu = B_nu\n",
    "    r = Planck15.comoving_distance(z)\n",
    "    y = (lambda_rest * (1 + z)**2) / Planck15.H(z)\n",
    "\n",
    "    V = r**2 * y * A_s * B_nu * Planck15.h**3\n",
    "    \n",
    "    return V.to(u.Mpc**3, equivalencies=u.dimensionless_angles())\n",
    "\n",
    "def calc_V_surv_ij(z, lambda_i, Omega_surv_j, B_nu_j):\n",
    "    # units in nanometers, GHz\n",
    "    A = 3.3e7 * u.Mpc**3 # just a random prefactor (Mpc / h)^3\n",
    "    V_surv_ij = A * (lambda_i / (158 * u.micron)) * np.sqrt((1 + z) / 8) \\\n",
    "                    * (Omega_surv_j / (16 * u.degree**2)) * (B_nu_j / (20 * u.GHz))\n",
    "\n",
    "    return V_surv_ij.decompose().to(u.Mpc**3)"
   ]
  },
  {
   "cell_type": "markdown",
   "id": "695f996c",
   "metadata": {},
   "source": [
    "### Checking the resolution of the instrument"
   ]
  },
  {
   "cell_type": "markdown",
   "id": "2658e6cd",
   "metadata": {},
   "source": [
    "The maximum resolvable $k$ of the instrument is set by the size of the survey volume. This is roughly,\n",
    "$$\n",
    "V \\approx R(z)^2\\Omega \\left[ \\frac{c}{H(z)} \\frac{B_{\\nu} (1+z)^2}{\\nu_{\\text{rest}}} \\right]\n",
    "$$\n",
    "Where the term $\\sqrt{R(z)^2 \\Omega}$ sets the minimum $k_{\\perp}$ and $\\left[ \\frac{c}{H(z)} \\frac{B_{\\nu} (1+z)^2}{\\nu_{\\text{rest}}} \\right]$ sets the minimum $k_{\\parallel}$.\n",
    "\n",
    "Then the maximum resolution is,\n",
    "$$k_{\\text{max}} = \\sqrt{2 k_{\\perp, \\text{max}}^2 + k_{\\parallel, \\text{max}}^2} \\\\\n",
    "= \\sqrt{\\left( \\frac{4 \\pi}{\\sqrt{R(z)^2 \\Omega}} \\right)^2 + \\left(\\frac{2 \\pi}{\\left[ \\frac{c}{H(z)} \\frac{B_{\\nu} (1+z)^2}{\\nu_{\\text{rest}}} \\right]}\\right)^2 }\n",
    "$$"
   ]
  },
  {
   "cell_type": "markdown",
   "id": "5149547b",
   "metadata": {},
   "source": [
    "### Survey specifications"
   ]
  },
  {
   "cell_type": "markdown",
   "id": "db1f45d9",
   "metadata": {},
   "source": [
    "We now want to construct three surveys that have the same coverage in 2D k-space, such that we can perform cross correlations. We want three different lines, corresponding to 21 cm, CII, and OIII."
   ]
  },
  {
   "cell_type": "code",
   "execution_count": 54,
   "id": "e36c4f8e",
   "metadata": {},
   "outputs": [],
   "source": [
    "def calc_L_perp(z, Omega):\n",
    "    # This assumes a square survey   \n",
    "    return np.sqrt(Planck15.comoving_distance(z)**2 \\\n",
    "            * Omega).to(u.Mpc, equivalencies=u.dimensionless_angles()) * Planck15.h\n",
    "\n",
    "def calc_L_para(z, nu_rest, delta_nu):\n",
    "    return ((const.c / Planck15.H(z)) * delta_nu * (1 + z)**2 / \\\n",
    "            nu_rest).to(u.Mpc) * Planck15.h\n",
    "\n",
    "def set_L_perp(k_perp_min, z):\n",
    "    R_z = Planck15.comoving_distance(z) * Planck15.h\n",
    "    Omega_surv = ((2 * np.pi)**2 / (k_perp_min * R_z)**2) * u.radian**2\n",
    "\n",
    "    return Omega_surv.to(u.degree**2)\n",
    "\n",
    "def set_L_para(k_para_min, z, nu_rest):\n",
    "    B_nu = (2 * np.pi * Planck15.H(z) * nu_rest) / \\\n",
    "            (const.c * k_para_min * (1 + z)**2) * Planck15.h\n",
    "    \n",
    "    return B_nu\n",
    "    "
   ]
  },
  {
   "cell_type": "code",
   "execution_count": 55,
   "id": "a69c3970",
   "metadata": {},
   "outputs": [],
   "source": [
    "k_units = k * u.Mpc**(-1)\n",
    "\n",
    "# max and min k values are partially determined by the simulation box size\n",
    "k_perp_min_box = (2 * np.pi) / (box_size * u.Mpc)\n",
    "k_para_min_box = (2 * np.pi) / (box_size * u.Mpc)\n",
    "\n",
    "k_perp_max_box = (2 * np.pi) / ((box_size * u.Mpc) / 512)\n",
    "k_para_max_box = (2 * np.pi) / ((box_size * u.Mpc) / 512)"
   ]
  },
  {
   "cell_type": "code",
   "execution_count": 56,
   "id": "083ad6d7",
   "metadata": {},
   "outputs": [],
   "source": [
    "nu_21cm = 1420.4 * u.MHz\n",
    "nu_21cm_obs = utils.calc_nu_obs(nu_21cm, z)\n",
    "\n",
    "lambda_21cm = utils.nu_to_wavelength(nu_21cm)"
   ]
  },
  {
   "cell_type": "code",
   "execution_count": 57,
   "id": "632c7d5e",
   "metadata": {},
   "outputs": [],
   "source": [
    "nu_CII = 1.9 * u.THz\n",
    "nu_CII_obs = utils.calc_nu_obs(nu_CII, z)\n",
    "\n",
    "lambda_CII = utils.nu_to_wavelength(nu_CII).to(u.micron) # micrometers"
   ]
  },
  {
   "cell_type": "code",
   "execution_count": 58,
   "id": "60541a03",
   "metadata": {},
   "outputs": [],
   "source": [
    "lambda_OIII = 88 * u.micron ## micrometers\n",
    "\n",
    "nu_OIII = utils.wavelength_to_nu(lambda_OIII)\n",
    "nu_OIII_obs = utils.calc_nu_obs(nu_OIII, z)"
   ]
  },
  {
   "cell_type": "code",
   "execution_count": 59,
   "id": "77308351",
   "metadata": {},
   "outputs": [
    {
     "data": {
      "text/latex": [
       "$0.64349982 \\; \\mathrm{deg^{2}}$"
      ],
      "text/plain": [
       "<Quantity 0.64349982 deg2>"
      ]
     },
     "execution_count": 59,
     "metadata": {},
     "output_type": "execute_result"
    }
   ],
   "source": [
    "set_L_perp(k_perp_min_box, z)"
   ]
  },
  {
   "cell_type": "code",
   "execution_count": 60,
   "id": "f2141351",
   "metadata": {},
   "outputs": [],
   "source": [
    "sigma_beam = 1.22 * lambda_CII / (3 * u.m)\n",
    "\n",
    "Omega_surv_21cm = set_L_perp(k_perp_min_box, z)\n",
    "Omega_surv_CII = set_L_perp(k_perp_min_box, z)\n",
    "Omega_surv_OIII = set_L_perp(k_perp_min_box, z)\n",
    "\n",
    "B_21cm = set_L_para(k_para_min_box, z, nu_21cm)\n",
    "B_CII = set_L_para(k_para_min_box, z, nu_CII)\n",
    "B_OIII = set_L_para(k_para_min_box, z, nu_OIII)"
   ]
  },
  {
   "cell_type": "code",
   "execution_count": 61,
   "id": "3841b5a3",
   "metadata": {},
   "outputs": [],
   "source": [
    "sigma_perp_21cm = utils.calc_sigma_perp(z, sigma_beam)\n",
    "sigma_perp_CII = utils.calc_sigma_perp(z, sigma_beam)\n",
    "sigma_perp_OIII = utils.calc_sigma_perp(z, sigma_beam)"
   ]
  },
  {
   "cell_type": "code",
   "execution_count": 62,
   "id": "e2e40f94",
   "metadata": {},
   "outputs": [],
   "source": [
    "delta_nu_CII = 10 * u.MHz\n",
    "sigma_para_CII = utils.calc_sigma_para(z, nu_CII_obs, delta_nu_CII)\n",
    "\n",
    "delta_nu_21cm = utils.set_sigma_para(sigma_para_CII, z, nu_21cm_obs)\n",
    "sigma_para_21cm = utils.calc_sigma_para(z, nu_21cm_obs, delta_nu_21cm)\n",
    "\n",
    "delta_nu_OIII = utils.set_sigma_para(sigma_para_CII, z, nu_OIII_obs)\n",
    "sigma_para_OIII = utils.calc_sigma_para(z, nu_OIII_obs, delta_nu_OIII)"
   ]
  },
  {
   "cell_type": "code",
   "execution_count": 63,
   "id": "1e04cd21",
   "metadata": {},
   "outputs": [
    {
     "name": "stdout",
     "output_type": "stream",
     "text": [
      "7.475789473684212 kHz\n",
      "10.0 MHz\n",
      "17.930170933014352 MHz\n"
     ]
    }
   ],
   "source": [
    "print(delta_nu_21cm.to(u.kHz))\n",
    "print(delta_nu_CII.to(u.MHz))\n",
    "print(delta_nu_OIII.to(u.MHz))"
   ]
  },
  {
   "cell_type": "code",
   "execution_count": 64,
   "id": "5161c1b7",
   "metadata": {},
   "outputs": [],
   "source": [
    "L_perp_21cm = calc_L_perp(z, Omega_surv_21cm)\n",
    "L_para_21cm = calc_L_para(z, nu_21cm, B_21cm)\n",
    "\n",
    "L_perp_CII = calc_L_perp(z, Omega_surv_CII)\n",
    "L_para_CII = calc_L_para(z, nu_CII, B_CII)\n",
    "\n",
    "L_perp_OIII = calc_L_perp(z, Omega_surv_OIII)\n",
    "L_para_OIII = calc_L_para(z, nu_OIII, B_OIII)"
   ]
  },
  {
   "cell_type": "code",
   "execution_count": 65,
   "id": "3ecc5f40",
   "metadata": {},
   "outputs": [],
   "source": [
    "k_perp_min_21cm = (2 * np.pi / L_perp_21cm)\n",
    "k_perp_min_CII = (2 * np.pi / L_perp_CII)\n",
    "k_perp_min_OIII = (2 * np.pi / L_perp_OIII)\n",
    "\n",
    "k_para_min_21cm = (2 * np.pi / L_para_21cm)\n",
    "k_para_min_CII = (2 * np.pi / L_para_CII)\n",
    "k_para_min_OIII = (2 * np.pi / L_para_OIII)\n",
    "\n",
    "k_perp_max_21cm = 1 / sigma_perp_21cm\n",
    "k_perp_max_CII = 1 / sigma_perp_CII\n",
    "k_perp_max_OIII = 1 / sigma_perp_OIII\n",
    "\n",
    "k_para_max_21cm = 1 / sigma_para_21cm\n",
    "k_para_max_CII = 1 / sigma_para_CII\n",
    "k_para_max_OIII = 1 / sigma_para_OIII"
   ]
  },
  {
   "cell_type": "code",
   "execution_count": 66,
   "id": "e5288730",
   "metadata": {},
   "outputs": [
    {
     "data": {
      "image/png": "[encoded data removed]",
      "text/plain": [
       "<Figure size 576x576 with 1 Axes>"
      ]
     },
     "metadata": {
      "needs_background": "light"
     },
     "output_type": "display_data"
    }
   ],
   "source": [
    "import matplotlib.patches as patches\n",
    "\n",
    "fig, ax = plt.subplots(1,1, figsize=(8, 8))\n",
    "\n",
    "# Create a Rectangle patch\n",
    "rect_21cm = patches.Rectangle((k_perp_min_21cm.value, k_para_min_21cm.value),\n",
    "                                (k_perp_max_21cm - k_perp_min_21cm).value,\n",
    "                                (k_para_max_21cm - k_para_min_21cm).value,\n",
    "                              linewidth=5, edgecolor=colors[0], facecolor='none')\n",
    "\n",
    "rect_CII = patches.Rectangle((k_perp_min_CII.value, k_para_min_CII.value),\n",
    "                                (k_perp_max_CII - k_perp_min_CII).value,\n",
    "                                (k_para_max_CII - k_para_min_CII).value,\n",
    "                              linewidth=5, ls='--', edgecolor=colors[1], facecolor='none')\n",
    "\n",
    "rect_OIII = patches.Rectangle((k_perp_min_OIII.value, k_para_min_OIII.value),\n",
    "                                (k_perp_max_OIII - k_perp_min_OIII).value,\n",
    "                                (k_para_max_OIII - k_para_min_OIII).value,\n",
    "                              linewidth=5, ls=':', edgecolor=colors[2], facecolor='none')\n",
    "\n",
    "\n",
    "# Add the patch to the Axes\n",
    "ax.add_patch(rect_21cm)\n",
    "ax.add_patch(rect_CII)\n",
    "ax.add_patch(rect_OIII)\n",
    "\n",
    "setup = ax.set(xlim=(0, 10), ylim=(0, 10), aspect=1)\n",
    "x_l = ax.set_xlabel(r'$k_{\\perp}$', fontsize=20)\n",
    "y_l = ax.set_ylabel(r'$k_{\\parallel}$', fontsize=20)\n",
    "\n",
    "title = ax.set_title('Survey extents in $k$-space', fontsize=20)\n",
    "leg = ax.legend(['21cm', 'CII', 'OIII'])"
   ]
  },
  {
   "cell_type": "markdown",
   "id": "32081e2f",
   "metadata": {},
   "source": [
    "### Weighting function for smoothing power spectrum"
   ]
  },
  {
   "cell_type": "markdown",
   "id": "62586f70",
   "metadata": {},
   "source": [
    "Now we want to consider the fact that an instrument does have equal sensitivity at all values of $k$."
   ]
  },
  {
   "cell_type": "code",
   "execution_count": 67,
   "id": "f74ee25c",
   "metadata": {},
   "outputs": [
    {
     "data": {
      "text/plain": [
       "array([9.98771098e-01, 9.97799159e-01, 9.96060299e-01, 9.92953302e-01,\n",
       "       9.87414286e-01, 9.77579544e-01, 9.60243786e-01, 9.30079168e-01,\n",
       "       8.78788404e-01, 7.95064393e-01, 6.67835687e-01, 4.96860913e-01,\n",
       "       3.09227174e-01, 1.57144613e-01, 7.04809542e-02, 3.00372045e-02,\n",
       "       1.12229597e-02, 3.15478088e-03, 5.23488553e-04, 3.35219592e-05])"
      ]
     },
     "execution_count": 67,
     "metadata": {},
     "output_type": "execute_result"
    }
   ],
   "source": [
    "W_k_21cm = utils.calc_W_k(k_units, sigma_perp_21cm, sigma_para_21cm)\n",
    "W_k_21cm"
   ]
  },
  {
   "cell_type": "code",
   "execution_count": 68,
   "id": "283bfcb2",
   "metadata": {},
   "outputs": [
    {
     "data": {
      "text/plain": [
       "array([9.98771098e-01, 9.97799159e-01, 9.96060299e-01, 9.92953302e-01,\n",
       "       9.87414286e-01, 9.77579544e-01, 9.60243786e-01, 9.30079168e-01,\n",
       "       8.78788404e-01, 7.95064393e-01, 6.67835687e-01, 4.96860913e-01,\n",
       "       3.09227174e-01, 1.57144613e-01, 7.04809542e-02, 3.00372045e-02,\n",
       "       1.12229597e-02, 3.15478088e-03, 5.23488553e-04, 3.35219592e-05])"
      ]
     },
     "execution_count": 68,
     "metadata": {},
     "output_type": "execute_result"
    }
   ],
   "source": [
    "W_k_CII = utils.calc_W_k(k_units, sigma_perp_CII, sigma_para_CII)\n",
    "W_k_CII"
   ]
  },
  {
   "cell_type": "code",
   "execution_count": 69,
   "id": "3908c3da",
   "metadata": {},
   "outputs": [
    {
     "data": {
      "text/plain": [
       "array([9.98771098e-01, 9.97799159e-01, 9.96060299e-01, 9.92953302e-01,\n",
       "       9.87414286e-01, 9.77579544e-01, 9.60243786e-01, 9.30079168e-01,\n",
       "       8.78788404e-01, 7.95064393e-01, 6.67835687e-01, 4.96860913e-01,\n",
       "       3.09227174e-01, 1.57144613e-01, 7.04809542e-02, 3.00372045e-02,\n",
       "       1.12229597e-02, 3.15478088e-03, 5.23488553e-04, 3.35219592e-05])"
      ]
     },
     "execution_count": 69,
     "metadata": {},
     "output_type": "execute_result"
    }
   ],
   "source": [
    "W_k_OIII = utils.calc_W_k(k_units, sigma_perp_OIII, sigma_para_OIII)\n",
    "W_k_OIII"
   ]
  },
  {
   "cell_type": "code",
   "execution_count": 72,
   "id": "212de7f8",
   "metadata": {},
   "outputs": [
    {
     "data": {
      "text/plain": [
       "[<matplotlib.lines.Line2D at 0x7fcf3222e090>]"
      ]
     },
     "execution_count": 72,
     "metadata": {},
     "output_type": "execute_result"
    },
    {
     "data": {
      "image/png": "[encoded data removed]",
      "text/plain": [
       "<Figure size 432x288 with 1 Axes>"
      ]
     },
     "metadata": {
      "needs_background": "light"
     },
     "output_type": "display_data"
    }
   ],
   "source": [
    "#plt.plot(k, W_k_CCATp, color='red')\n",
    "plt.loglog(k[1:-1], spectra['P_21cm_21cm'][1:-1] * W_k_21cm[1:-1],\n",
    "            color=colors[0], marker='.')\n",
    "\n",
    "plt.loglog(k[1:-1], spectra['P_CII_CII'][1:-1] * W_k_CII[1:-1],\n",
    "            color=colors[1], marker='.')\n",
    "\n",
    "plt.loglog(k[1:-1], spectra['P_OIII_OIII'][1:-1] * W_k_OIII[1:-1],\n",
    "            color=colors[2], marker='.')\n",
    "\n",
    "\n",
    "#plt.axvline(1 / sigma_para_CCATp.to_value(), color='red', ls='--', alpha=.2)\n",
    "# plt.axvline(1 / sigma_perp_FYST.to_value(), color='b')"
   ]
  },
  {
   "cell_type": "markdown",
   "id": "68bb81c3",
   "metadata": {},
   "source": [
    "### Current and future surveys"
   ]
  },
  {
   "cell_type": "code",
   "execution_count": null,
   "id": "123b13f5",
   "metadata": {},
   "outputs": [],
   "source": [
    "specs_CCATp = {'sigma_pix': 0.86 * (u.MJy * u.s**(1/2) / u.steradian),\n",
    "               'N_det': 20 * u.dimensionless_unscaled,\n",
    "               'theta_FWMH': 46.0 * u.arcsec,\n",
    "               'nu_obs_min': 200.0 * u.GHz,\n",
    "               'nu_obs_max': 300.0 * u.GHz,\n",
    "               'delta_nu': 2.5 * u.GHz,\n",
    "               't_obs': 3400 * u.hr,\n",
    "               'Omega_surv': 1.7 * u.degree**2,\n",
    "               'AGN Source': 'COSMOS'}\n",
    "\n",
    "specs_HERA = {'sigma_pix': None,\n",
    "               'N_det': None,\n",
    "               'theta_FWMH': None,\n",
    "               'nu_obs_min': 100.0 * u.GHz,\n",
    "               'nu_obs_max': 200.0 * u.GHz,\n",
    "               'delta_nu': 97.8 * u.kHz,\n",
    "               't_obs': None,\n",
    "               'Omega_surv': 1440 * u.degree**2,\n",
    "               'AGN Source': None}\n",
    "\n",
    "specs_StageII = {'sigma_pix': 0.21 * (u.MJy * u.s**(1/2) / u.steradian),\n",
    "               'N_det': 16**4 * u.dimensionless_unscaled,\n",
    "               'theta_FWMH': 30.1 * u.arcsec,\n",
    "               'nu_obs_min': 200.0 * u.GHz,\n",
    "               'nu_obs_max': 300.0 * u.GHz,\n",
    "               'delta_nu': 0.4 * u.GHz,\n",
    "               't_obs': 2000 * u.hr,\n",
    "               'Omega_surv': 100.0 * u.degree**2,\n",
    "               'AGN Source': 'DESI'}\n",
    "\n",
    "specs_EXCLAIM = {'sigma_pix': 0.2 * (u.MJy * u.s**(1/2) / u.steradian),\n",
    "               'N_det': 30 * u.dimensionless_unscaled,\n",
    "               'theta_FWMH': None,\n",
    "               'sigma_beam': utils.calc_sigma_beam(6, lambda_OIII, 3.0 * u.m),\n",
    "               'B_nu': 40.0 * u.GHz,\n",
    "               'nu_obs_min': 420.0 * u.GHz,\n",
    "               'nu_obs_max': 540.0 * u.GHz,\n",
    "               'delta_nu': 1000 * u.MHz,\n",
    "               't_obs': 8.0 * u.hr,\n",
    "               'Omega_surv': 100.0 * u.degree**2,\n",
    "               'AGN Source': 'DESI'}\n"
   ]
  },
  {
   "cell_type": "markdown",
   "id": "2da6b99a",
   "metadata": {},
   "source": [
    "### Errors"
   ]
  },
  {
   "cell_type": "markdown",
   "id": "a033f4b2",
   "metadata": {},
   "source": [
    "Now we need to make sure our we have realistic estimated errors on our measurements."
   ]
  },
  {
   "cell_type": "code",
   "execution_count": null,
   "id": "301dd316",
   "metadata": {},
   "outputs": [],
   "source": [
    "V_survey_21cm = calc_V_survey(z, Omega_surv_21cm, B_21cm, nu_21cm)\n",
    "V_survey_CII = calc_V_survey(z, Omega_surv_CII, B_CII, nu_CII)\n",
    "V_survey_OIII = calc_V_survey(z, Omega_surv_OIII, B_21cm, nu_OIII)\n",
    "\n",
    "V_vox_21cm = calc_V_vox(z, sigma_beam, delta_nu_21cm, nu_21cm)\n",
    "V_vox_CII = calc_V_vox(z, sigma_beam, delta_nu_CII, nu_CII)\n",
    "V_vox_OIII = calc_V_vox(z, sigma_beam, delta_nu_OIII, nu_OIII)"
   ]
  },
  {
   "cell_type": "markdown",
   "id": "bc9f6191",
   "metadata": {},
   "source": [
    "#### N modes check"
   ]
  },
  {
   "cell_type": "code",
   "execution_count": null,
   "id": "38e5a50b",
   "metadata": {},
   "outputs": [],
   "source": [
    "N_modes = calc_N_modes(k, V_survey_21cm, align='left')\n",
    "N_modes"
   ]
  },
  {
   "cell_type": "code",
   "execution_count": null,
   "id": "002fbe0d",
   "metadata": {},
   "outputs": [],
   "source": [
    "V_survey_21cm / V_vox_21cm"
   ]
  },
  {
   "cell_type": "code",
   "execution_count": null,
   "id": "508b8835",
   "metadata": {},
   "outputs": [],
   "source": [
    "V_survey_CII / V_vox_CII "
   ]
  },
  {
   "cell_type": "code",
   "execution_count": null,
   "id": "bafa14aa",
   "metadata": {},
   "outputs": [],
   "source": [
    "# Need to update with HERA\n",
    "t_pix_21cm = calc_t_pix(specs_CCATp['N_det'], specs_CCATp['t_obs'],\n",
    "                                                   Omega_surv_CII, sigma_beam)\n",
    "\n",
    "t_pix_CII = calc_t_pix(specs_StageII['N_det'], specs_StageII['t_obs'],\n",
    "                                                   Omega_surv_CII, sigma_beam)\n",
    "t_pix_OIII = calc_t_pix(specs_EXCLAIM['N_det'], specs_EXCLAIM['t_obs'],\n",
    "                                                   Omega_surv_OIII, sigma_beam)\n",
    "\n",
    "P_N_21cm = calc_P_N(specs_StageII['sigma_pix'], V_vox_21cm, t_pix_21cm)\n",
    "P_N_CII = calc_P_N(specs_StageII['sigma_pix'], V_vox_CII, t_pix_CII)\n",
    "P_N_OIII = calc_P_N(specs_EXCLAIM['sigma_pix'], V_vox_OIII, t_pix_OIII)\n",
    "\n",
    "N_modes = calc_N_modes(k, V_survey_21cm, align='left')\n",
    "\n",
    "P_CV = P_21cm_CII[:-1] / np.sqrt(N_modes)\n",
    "P_shot = np.sqrt(P_21cm_21cm[:-1] * P_CII_CII[:-1]) / np.sqrt(N_modes)\n",
    "P_noise = (P_N_CII * P_CII_CII[:-1]) / (W_k_21cm[:-1]**2 * np.sqrt(N_modes))\n",
    "\n",
    "#sigma_21cm_CII = error_bars(P_21cm_CII[:-1], P_21cm_21cm[:-1], P_CII_CII[:-1],\n",
    "#                                                P_N_21cm, W_k_21cm[:-1], N_modes) \n",
    "\n",
    "var_21cm_21cm = var_auto(P_21cm_21cm[:-1], W_k_21cm[:-1], P_N_21cm, N_modes)\n",
    "var_CII_CII = var_auto(P_CII_CII[:-1], W_k_CII[:-1], P_N_CII, N_modes)\n",
    "var_OIII_OIII = var_auto(P_OIII_OIII[:-1], W_k_OIII[:-1], P_N_OIII, N_modes)\n",
    "\n",
    "var_21cm_CII = var_x(P_21cm_21cm[:-1], W_k_21cm[:-1], P_CII_CII[:-1], W_k_CII[:-1], P_N_21cm,\n",
    "                     P_N_CII, P_21cm_CII[:-1], N_modes)\n",
    "var_21cm_OIII = var_x(P_21cm_21cm[:-1], W_k_21cm[:-1], P_OIII_OIII[:-1], W_k_OIII[:-1],\n",
    "                      P_N_21cm, P_N_OIII, P_21cm_OIII[:-1], N_modes)\n",
    "var_CII_OIII = var_x(P_CII_CII[:-1], W_k_CII[:-1], P_OIII_OIII[:-1], W_k_OIII[:-1],\n",
    "                      P_N_CII, P_N_OIII, P_CII_OIII[:-1], N_modes)"
   ]
  },
  {
   "cell_type": "code",
   "execution_count": null,
   "id": "a7e758dd",
   "metadata": {},
   "outputs": [],
   "source": [
    "plt.figure(figsize=(8,8))\n",
    "plt.loglog(k[1:-1], (k[1:-1]**3 * P_21cm_CII[1:-1] * W_k_CII[1:-1]).value / (2 * np.pi**2))\n",
    "plt.loglog(k[1:-1], (k[1:-1]**3 * np.sqrt(var_21cm_CII[:-1])).value / (2 * np.pi**2), \n",
    "                              drawstyle='steps')\n",
    "\n",
    "plt.ylim(1e2, 1e4)"
   ]
  },
  {
   "cell_type": "code",
   "execution_count": null,
   "id": "2cd8a397",
   "metadata": {},
   "outputs": [],
   "source": [
    "plt.errorbar(k[1:-1], k[1:-1]**3 * P_21cm_CII.value[1:-1] * W_k_21cm[1:-1] / (2 * np.pi**2),\n",
    "                                         yerr=k[1:-1]**3 * np.sqrt(var_21cm_CII[:-1]).value / (2 * np.pi**2))\n",
    "\n",
    "plt.xscale('log')\n",
    "plt.yscale('log')"
   ]
  },
  {
   "cell_type": "code",
   "execution_count": null,
   "id": "9498e4c1",
   "metadata": {},
   "outputs": [],
   "source": [
    "plt.figure(figsize=(8,8))\n",
    "plt.loglog(k[1:-1], (k[1:-1]**3 * P_21cm_OIII[1:-1] * W_k_OIII[1:-1]).value / (2 * np.pi**2))\n",
    "plt.loglog(k[1:-1], (k[1:-1]**3 * np.sqrt(var_21cm_OIII[:-1])).value / (2 * np.pi**2), \n",
    "                              drawstyle='steps')\n",
    "\n",
    "plt.ylim(1e2, 1e4)"
   ]
  },
  {
   "cell_type": "markdown",
   "id": "9f046547",
   "metadata": {},
   "source": [
    "### Comparing noise forecasts with Padmanabhan et al."
   ]
  },
  {
   "cell_type": "code",
   "execution_count": null,
   "id": "41f264e8",
   "metadata": {},
   "outputs": [],
   "source": [
    "# this is just checking sigma / t_pix^(1/2) with Chung et al. (2020) for CCATp\n",
    "\n",
    "t_pix_CCATp = calc_t_pix(specs_CCATp['N_det'], specs_CCATp['t_obs'],\n",
    "                                        specs_CCATp['Omega_surv'],\n",
    "                                        utils.FWHM_to_sigma(specs_CCATp['theta_FWMH']))\n",
    "\n",
    "\n",
    "sig_t_pix_Chung = 6.2e3 * u.Jy / u.steradian\n",
    "sig_t_pix_CCATp = specs_CCATp['sigma_pix'] / np.sqrt(t_pix_CCATp)\n",
    "\n",
    "print(sig_t_pix_Chung / sig_t_pix_CCATp.to(u.Jy / u.steradian))"
   ]
  },
  {
   "cell_type": "markdown",
   "id": "e995bdfd",
   "metadata": {},
   "source": [
    "#### CCAT-p specifications"
   ]
  },
  {
   "cell_type": "code",
   "execution_count": null,
   "id": "3480acf2",
   "metadata": {},
   "outputs": [],
   "source": [
    "sigma_beam_CCATp = utils.FWHM_to_sigma(specs_CCATp['theta_FWMH'])\n",
    "V_surv_CCATp = calc_V_survey(z, specs_CCATp['Omega_surv'],\n",
    "                               specs_CCATp['nu_obs_max'] - specs_CCATp['nu_obs_min'],\n",
    "                                nu_CII)\n",
    "V_vox_CCATp = calc_V_vox(z, sigma_beam_CCATp, specs_CCATp['delta_nu'], nu_CII)\n",
    "t_pix_CCATp = calc_t_pix(specs_CCATp['N_det'], specs_CCATp['t_obs'],\n",
    "                                        specs_CCATp['Omega_surv'],\n",
    "                                        sigma_beam_CCATp)\n",
    "\n",
    "N_modes_CCATp = calc_N_modes(k, V_surv_CCATp, align='left')\n",
    "\n",
    "sigma_perp_CCATp = utils.calc_sigma_perp(z, sigma_beam_CCATp)\n",
    "sigma_para_CCATp = utils.calc_sigma_para(z, nu_CII_obs, specs_CCATp['delta_nu'])\n",
    "\n",
    "P_N_CCATp = calc_P_N(specs_CCATp['sigma_pix'], V_vox_CCATp, t_pix_CCATp)\n",
    "P_CV_CCATp = P_CII_CII[:-1] / np.sqrt(N_modes_CCATp)\n",
    "P_shot_CCATp = P_CII_CII[:-1] / np.sqrt(N_modes_CCATp)\n",
    "P_noise_CCATp = np.sqrt(P_N_CCATp * P_CII_CII[:-1]) / (W_k_CII[:-1]**2 * np.sqrt(N_modes_CCATp))\n",
    "\n",
    "W_k_CCATp = utils.calc_W_k(k_units, sigma_perp_CCATp, sigma_para_CCATp)\n",
    "\n",
    "var_auto_CCATp = var_auto(P_CII_CII[:-1], W_k_CCATp[:-1], P_N_CCATp, N_modes_CCATp)\n",
    "var_x_CCATp = var_x(P_21cm_21cm[:-1], W_k_21cm[:-1], P_CII_CII[:-1], W_k_CCATp[:-1], P_N_21cm,\n",
    "                     P_N_CCATp, P_21cm_CII[:-1], N_modes_CCATp)"
   ]
  },
  {
   "cell_type": "code",
   "execution_count": null,
   "id": "28de4876",
   "metadata": {},
   "outputs": [],
   "source": [
    "plt.loglog(k[1:-1], k[1:-1]**3 * P_CV_CCATp[:-1].to(u.Mpc**3 * u.Jy**2 * u.steradian**(-2)) / (2 * np.pi**2), label='Cosmic variance')\n",
    "plt.loglog(k[1:-1], k[1:-1]**3 * P_shot_CCATp[:-1].to(u.Mpc**3 * u.Jy**2 * u.steradian**(-2)) / (2 * np.pi**2), label='shot noise')\n",
    "plt.loglog(k[1:-1], k[1:-1]**3 *  P_noise_CCATp[:-1].to(u.Mpc**3 * u.Jy**2 * u.steradian**(-2)) / (2 * np.pi**2), label='instrumental noise')\n",
    "\n",
    "plt.legend()"
   ]
  },
  {
   "cell_type": "code",
   "execution_count": null,
   "id": "3de1e667",
   "metadata": {},
   "outputs": [],
   "source": [
    "plt.figure(figsize=(8,8))\n",
    "plt.loglog(k[1:-1], (k[1:-1]**3 * P_21cm_CII[1:-1] * W_k_CII[1:-1]).value / (2 * np.pi**2))\n",
    "plt.loglog(k[1:-1], (k[1:-1]**3 * np.sqrt(var_21cm_CII[:-1])).value / (2 * np.pi**2), \n",
    "                              drawstyle='steps')\n",
    "\n",
    "plt.ylim(1e2, 1e4)"
   ]
  },
  {
   "cell_type": "markdown",
   "id": "3154799d",
   "metadata": {},
   "source": [
    "#### FYST (or Stage II) specifications"
   ]
  },
  {
   "cell_type": "code",
   "execution_count": null,
   "id": "9828e0b9",
   "metadata": {},
   "outputs": [],
   "source": [
    "sigma_beam_StageII = utils.FWHM_to_sigma(specs_StageII['theta_FWMH'])\n",
    "V_surv_StageII = calc_V_survey(z, specs_StageII['Omega_surv'],\n",
    "                               specs_StageII['nu_obs_max'] - specs_StageII['nu_obs_min'],\n",
    "                                nu_CII)\n",
    "V_vox_StageII = calc_V_vox(z, sigma_beam_StageII, specs_StageII['delta_nu'], nu_CII)\n",
    "t_pix_StageII = calc_t_pix(specs_StageII['N_det'], specs_StageII['t_obs'],\n",
    "                                        specs_StageII['Omega_surv'],\n",
    "                                        sigma_beam_StageII)\n",
    "\n",
    "N_modes_StageII = calc_N_modes(k, V_surv_StageII, align='left')\n",
    "\n",
    "sigma_perp_StageII = utils.calc_sigma_perp(z, sigma_beam_StageII)\n",
    "sigma_para_StageII = utils.calc_sigma_para(z, nu_CII_obs, specs_StageII['delta_nu'])\n",
    "W_k_StageII = utils.calc_W_k(k_units, sigma_perp_StageII, sigma_para_StageII)\n",
    "\n",
    "P_N_StageII = calc_P_N(specs_StageII['sigma_pix'], V_vox_StageII, t_pix_StageII)\n",
    "P_CV_StageII = P_CII_CII[:-1] / np.sqrt(N_modes_StageII)\n",
    "P_shot_StageII = P_CII_CII[:-1] / np.sqrt(N_modes_StageII)\n",
    "P_noise_StageII = np.sqrt(P_N_StageII * P_CII_CII[:-1]) / (W_k_StageII[:-1]**2 * np.sqrt(N_modes_StageII))\n",
    "\n",
    "var_auto_StageII = var_auto(P_CII_CII[:-1], W_k_StageII[:-1], P_N_StageII, N_modes_StageII)\n",
    "var_x_StageII = var_x(P_21cm_21cm[:-1], W_k_21cm[:-1], P_CII_CII[:-1], W_k_StageII[:-1], P_N_21cm,\n",
    "                     P_N_StageII, P_21cm_CII[:-1], N_modes_StageII)"
   ]
  },
  {
   "cell_type": "code",
   "execution_count": null,
   "id": "c6dad825",
   "metadata": {},
   "outputs": [],
   "source": [
    "V_surv_StageII / V_vox_StageII"
   ]
  },
  {
   "cell_type": "code",
   "execution_count": null,
   "id": "54790bf7",
   "metadata": {},
   "outputs": [],
   "source": [
    "P_shot_StageII"
   ]
  },
  {
   "cell_type": "code",
   "execution_count": null,
   "id": "468da30e",
   "metadata": {},
   "outputs": [],
   "source": [
    "plt.loglog(k[1:-1], k[1:-1]**3 * P_CV_StageII[:-1].to(u.Mpc**3 * u.Jy**2 * u.steradian**(-2)) / (2 * np.pi**2), label='Cosmic variance')\n",
    "plt.loglog(k[1:-1], k[1:-1]**3 * P_shot_StageII[:-1].to(u.Mpc**3 * u.Jy**2 * u.steradian**(-2)) / (2 * np.pi**2), label='shot noise')\n",
    "plt.loglog(k[1:-1], k[1:-1]**3 *  P_noise_StageII[:-1].to(u.Mpc**3 * u.Jy**2 * u.steradian**(-2)) / (2 * np.pi**2), label='instrumental noise')\n",
    "\n",
    "plt.legend()"
   ]
  },
  {
   "cell_type": "code",
   "execution_count": null,
   "id": "40f87217",
   "metadata": {},
   "outputs": [],
   "source": [
    "plt.figure(figsize=(8,8))\n",
    "plt.loglog(k[1:-1], (k[1:-1]**3 * P_21cm_CII[1:-1] * np.sqrt(W_k_CII[1:-1] \n",
    "                                                             * W_k_21cm[1:-1])).value / (2 * np.pi**2),\n",
    "                                          color=colors[0], alpha=.5, label='idealized survey')\n",
    "plt.loglog(k[1:-1], (k[1:-1]**3 * np.sqrt(var_21cm_CII[:-1])).value / (2 * np.pi**2), \n",
    "                              drawstyle='steps', color=colors[0], lw=2)"
   ]
  },
  {
   "cell_type": "code",
   "execution_count": null,
   "id": "df164d5f",
   "metadata": {},
   "outputs": [],
   "source": [
    "plt.figure(figsize=(8,8))\n",
    "plt.loglog(k[1:-1], (k[1:-1]**3 * P_21cm_CII[1:-1] * np.sqrt(W_k_CII[1:-1] \n",
    "                                                             * W_k_21cm[1:-1])).value / (2 * np.pi**2),\n",
    "                                          color=colors[0], alpha=.5, label='idealized survey')\n",
    "plt.loglog(k[1:-1], (k[1:-1]**3 * np.sqrt(var_21cm_CII[:-1])).value / (2 * np.pi**2), \n",
    "                              drawstyle='steps', color=colors[0], lw=2)\n",
    "\n",
    "plt.loglog(k[1:-1], (k[1:-1]**3 * P_21cm_CII[1:-1] * np.sqrt(W_k_CCATp[1:-1] \n",
    "                                                             * W_k_21cm[1:-1])).value / (2 * np.pi**2),\n",
    "                                          color=colors[1], alpha=.5, label='CCATp')\n",
    "plt.loglog(k[1:-1], (k[1:-1]**3 * np.sqrt(var_x_CCATp[:-1])).value / (2 * np.pi**2), \n",
    "                              drawstyle='steps', color=colors[1], lw=2)\n",
    "\n",
    "plt.loglog(k[1:-1], (k[1:-1]**3 * P_21cm_CII[1:-1] * np.sqrt(W_k_StageII[1:-1] \n",
    "                                                             * W_k_21cm[1:-1])).value / (2 * np.pi**2),\n",
    "                                          color=colors[2], alpha=.5, label='Stage II')\n",
    "plt.loglog(k[1:-1], (k[1:-1]**3 * np.sqrt(var_x_StageII[:-1])).value / (2 * np.pi**2), \n",
    "                              drawstyle='steps', color=colors[2], lw=2)\n",
    "\n",
    "plt.legend()\n",
    "plt.ylim(10**0, 10**4)"
   ]
  },
  {
   "cell_type": "code",
   "execution_count": null,
   "id": "fb31d71b",
   "metadata": {},
   "outputs": [],
   "source": [
    "plt.figure(figsize=(8,8))\n",
    "plt.loglog(k[1:-1], (k[1:-1]**3 * P_CII_CII[1:-1] * W_k_CII[1:-1]).value / (2 * np.pi**2),\n",
    "                                          color=colors[0], alpha=.5, label='idealized survey')\n",
    "plt.loglog(k[1:-1], (k[1:-1]**3 * np.sqrt(var_CII_CII[:-1])).value / (2 * np.pi**2), \n",
    "                              drawstyle='steps', color=colors[0], lw=2)\n",
    "\n",
    "plt.loglog(k[1:-1], (k[1:-1]**3 * P_CII_CII[1:-1] * W_k_CCATp[1:-1]).value / (2 * np.pi**2),\n",
    "                                          color=colors[1], alpha=.5, label='CCATp')\n",
    "plt.loglog(k[1:-1], (k[1:-1]**3 * np.sqrt(var_auto_CCATp[:-1])).value / (2 * np.pi**2), \n",
    "                              drawstyle='steps', color=colors[1], lw=2)\n",
    "\n",
    "plt.loglog(k[1:-1], (k[1:-1]**3 * P_CII_CII[1:-1] * W_k_StageII[1:-1]).value / (2 * np.pi**2),\n",
    "                                          color=colors[2], alpha=.5, label='Stage II')\n",
    "plt.loglog(k[1:-1], (k[1:-1]**3 * np.sqrt(var_auto_StageII[:-1])).value / (2 * np.pi**2), \n",
    "                              drawstyle='steps', color=colors[2], lw=2)\n",
    "\n",
    "plt.legend()\n",
    "plt.ylim(10**0, 10**7)\n",
    "plt.xlabel(r'$k [$Mpc$]^{-1}$', fontsize=16)\n",
    "plt.ylabel(r'$\\Delta^2 (k) \\times W(k) \\, [$ Jy/sr $]^2$', fontsize=16)"
   ]
  },
  {
   "cell_type": "markdown",
   "id": "9eff4034",
   "metadata": {},
   "source": [
    "#### EXCLAIM specifications"
   ]
  },
  {
   "cell_type": "code",
   "execution_count": null,
   "id": "6d248370",
   "metadata": {},
   "outputs": [],
   "source": [
    "V_surv_EXCLAIM = calc_V_survey(z, specs_EXCLAIM['Omega_surv'],\n",
    "                               specs_EXCLAIM['B_nu'],\n",
    "                                nu_OIII)\n",
    "V_vox_EXCLAIM = calc_V_vox(z, specs_EXCLAIM['sigma_beam'], specs_EXCLAIM['delta_nu'], nu_OIII)\n",
    "t_pix_EXCLAIM = calc_t_pix(specs_EXCLAIM['N_det'], specs_EXCLAIM['t_obs'],\n",
    "                                        specs_EXCLAIM['Omega_surv'],\n",
    "                                        specs_EXCLAIM['sigma_beam'])\n",
    "N_modes_EXCLAIM = calc_N_modes(k, V_surv_EXCLAIM, align='left')\n",
    "\n",
    "sigma_perp_EXCLAIM = utils.calc_sigma_perp(z, specs_EXCLAIM['sigma_beam'])\n",
    "sigma_para_EXCLAIM = utils.calc_sigma_para(z, nu_OIII_obs, specs_EXCLAIM['delta_nu'])\n",
    "W_k_EXCLAIM = utils.calc_W_k(k_units, sigma_perp_EXCLAIM, sigma_para_EXCLAIM)\n",
    "\n",
    "P_N_EXCLAIM = calc_P_N(specs_EXCLAIM['sigma_pix'], V_vox_EXCLAIM, t_pix_EXCLAIM)\n",
    "P_CV_EXCLAIM = P_OIII_OIII[:-1] / np.sqrt(N_modes_EXCLAIM)\n",
    "P_shot_EXCLAIM = np.sqrt(P_OIII_OIII[:-1]) / np.sqrt(N_modes_EXCLAIM)\n",
    "P_noise_EXCLAIM = (P_N_EXCLAIM * P_OIII_OIII[:-1]) / (W_k_OIII[:-1]**2 * np.sqrt(N_modes_EXCLAIM))\n",
    "\n",
    "var_auto_EXCLAIM = var_auto(P_OIII_OIII[:-1], W_k_EXCLAIM[:-1], P_N_EXCLAIM, N_modes_EXCLAIM)\n",
    "var_x_EXCLAIM = var_x(P_21cm_21cm[:-1], W_k_21cm[:-1], P_OIII_OIII[:-1], W_k_EXCLAIM[:-1], P_N_21cm,\n",
    "                     P_N_EXCLAIM, P_21cm_OIII[:-1], N_modes_EXCLAIM)"
   ]
  },
  {
   "cell_type": "code",
   "execution_count": null,
   "id": "d774637c",
   "metadata": {},
   "outputs": [],
   "source": [
    "N_modes_EXCLAIM"
   ]
  },
  {
   "cell_type": "code",
   "execution_count": null,
   "id": "7141ec0c",
   "metadata": {},
   "outputs": [],
   "source": [
    "plt.figure(figsize=(8,8))\n",
    "plt.loglog(k[1:-1], (k[1:-1]**3 * P_OIII_OIII[1:-1] * W_k_EXCLAIM[1:-1]).value / (2 * np.pi**2),\n",
    "                                      color=colors[0], alpha=0.5, label='EXCLAIM')\n",
    "plt.loglog(k[1:-1], (k[1:-1]**3 * np.sqrt(var_auto_EXCLAIM[:-1])).value / (2 * np.pi**2), \n",
    "                              drawstyle='steps', color=colors[0], lw=2)\n",
    "\n",
    "plt.loglog(k[1:-1], (k[1:-1]**3 * P_OIII_OIII[1:-1] * W_k_OIII[1:-1]).value / (2 * np.pi**2),\n",
    "                                      color=colors[2], alpha=0.5, label='idealized survey')\n",
    "plt.loglog(k[1:-1], (k[1:-1]**3 * np.sqrt(var_OIII_OIII[:-1])).value / (2 * np.pi**2), \n",
    "                              drawstyle='steps', color=colors[2], lw=2)\n",
    "\n",
    "plt.legend()\n",
    "plt.ylim(1e2, 1e9)\n",
    "plt.xlabel(r'$k [$Mpc$]^{-1}$', fontsize=16)\n",
    "plt.ylabel(r'$\\Delta^2 (k) \\times W(k) \\, [$ Jy/sr $]^2$', fontsize=16)"
   ]
  },
  {
   "cell_type": "markdown",
   "id": "28de47c3",
   "metadata": {},
   "source": [
    "### Current and upcoming surveys"
   ]
  },
  {
   "cell_type": "code",
   "execution_count": null,
   "id": "705a84b5",
   "metadata": {},
   "outputs": [],
   "source": [
    "import matplotlib.transforms as mtransforms\n",
    "import matplotlib.patches as mpatch\n",
    "from matplotlib.patches import FancyBboxPatch"
   ]
  },
  {
   "cell_type": "code",
   "execution_count": null,
   "id": "74ed3307",
   "metadata": {},
   "outputs": [],
   "source": [
    "sigma_beam_CCATp = utils.FWHM_to_sigma(specs_CCATp['theta_FWMH']) # FWHM_to_sigma(46) #arcsec\n",
    "sigma_perp_CCATp = utils.calc_sigma_perp(z, sigma_beam_CCATp)\n",
    "sigma_para_CCATp = utils.calc_sigma_para(z, nu_CII_obs, specs_CCATp['delta_nu'])"
   ]
  },
  {
   "cell_type": "code",
   "execution_count": null,
   "id": "feb8471c",
   "metadata": {},
   "outputs": [],
   "source": [
    "def add_fancy_patch_around(ax, bb, **kwargs):\n",
    "    fancy = FancyBboxPatch((bb.xmin, bb.ymin), bb.width, bb.height,\n",
    "                           **kwargs)\n",
    "    ax.add_patch(fancy)\n",
    "    return fancy\n",
    "\n",
    "def draw_control_points_for_patches(ax):\n",
    "    for patch in ax.patches:\n",
    "        patch.axes.plot(*patch.get_path().vertices.T, \".\",\n",
    "                        c=patch.get_edgecolor())\n",
    "        \n",
    "def plot_box(ax, k_perp_min, k_perp_max, k_para_min, k_para_max, color):\n",
    "    # Bbox object around which the fancy box will be drawn.\n",
    "    bb = mtransforms.Bbox([[k_perp_min, k_para_min], [k_perp_max, k_para_max]])\n",
    "\n",
    "\n",
    "    # a fancy box with round corners. pad=0.1\n",
    "    fancy = add_fancy_patch_around(ax, bb, boxstyle=\"round,pad=0.0\",\n",
    "                                alpha=.2, color=color)"
   ]
  },
  {
   "cell_type": "code",
   "execution_count": null,
   "id": "977249dd",
   "metadata": {},
   "outputs": [],
   "source": [
    "sigma_beam_FYST = 1.22 * lambda_CII / (3 * u.m)\n",
    "\n",
    "sigma_perp_FYST = utils.calc_sigma_perp(z, sigma_beam_FYST.decompose())\n",
    "sigma_perp_HERA = utils.calc_sigma_perp(z, sigma_beam_FYST.decompose())\n",
    "sigma_perp_CCATp = utils.calc_sigma_perp(z, utils.FWHM_to_sigma(specs_CCATp['theta_FWMH']))\n",
    "sigma_perp_StageII = utils.calc_sigma_perp(z, utils.FWHM_to_sigma(specs_StageII['theta_FWMH']))\n",
    "sigma_perp_EXCLAIM_1 = utils.calc_sigma_perp(z, specs_EXCLAIM['sigma_beam'])\n",
    "\n",
    "sigma_para_FYST = utils.calc_sigma_para(z, nu_CII_obs, 300 * u.MHz)\n",
    "sigma_para_HERA = utils.calc_sigma_para(z, nu_21cm_obs, specs_HERA['delta_nu'])\n",
    "sigma_para_CCATp = utils.calc_sigma_para(z, nu_CII_obs, specs_CCATp['delta_nu'])\n",
    "sigma_para_StageII = utils.calc_sigma_para(z, nu_CII_obs, specs_StageII['delta_nu'])\n",
    "sigma_perp_EXCLAIM_1 = utils.calc_sigma_perp(z, specs_EXCLAIM['sigma_beam'])"
   ]
  },
  {
   "cell_type": "code",
   "execution_count": null,
   "id": "147f364e",
   "metadata": {},
   "outputs": [],
   "source": [
    "L_perp_CCATp = (np.sqrt(Planck15.comoving_distance(z)**2 \\\n",
    "            * specs_CCATp['Omega_surv'])).to(u.Mpc, equivalencies=u.dimensionless_angles())\n",
    "L_para_CCATp = ((const.c / Planck15.H(z)) * (100 * u.GHz) \\\n",
    "          * (1 + z)**2 / nu_CII).to(u.Mpc)\n",
    "\n",
    "L_perp_StageII = (np.sqrt(Planck15.comoving_distance(z)**2 \\\n",
    "            * specs_StageII['Omega_surv'])).to(u.Mpc, equivalencies=u.dimensionless_angles())\n",
    "L_para_StageII = ((const.c / Planck15.H(z)) * (100 * u.GHz) \\\n",
    "          * (1 + z)**2 / nu_CII).to(u.Mpc)\n",
    "\n",
    "L_perp_HERA = (np.sqrt(Planck15.comoving_distance(z)**2 \\\n",
    "            * specs_HERA['Omega_surv'])).to(u.Mpc, equivalencies=u.dimensionless_angles())\n",
    "L_para_HERA = ((const.c / Planck15.H(z)) * (100 * u.MHz) \\\n",
    "          * (1 + z)**2 / nu_21cm).to(u.Mpc)\n",
    "\n",
    "L_perp_EXCLAIM_1 = (np.sqrt(Planck15.comoving_distance(z)**2 \\\n",
    "            * (100 * u.degree**2))).to(u.Mpc, equivalencies=u.dimensionless_angles())\n",
    "L_para_EXCLAIM_1 = ((const.c / Planck15.H(z)) * (100 * u.GHz) \\\n",
    "          * (1 + z)**2 / nu_OIII).to(u.Mpc)"
   ]
  },
  {
   "cell_type": "code",
   "execution_count": null,
   "id": "fb10fbc2",
   "metadata": {},
   "outputs": [],
   "source": [
    "colors = ['#0072B2', '#009E73', '#D55E00', '#CC79A7', '#F0E442', '#56B4E9']"
   ]
  },
  {
   "cell_type": "code",
   "execution_count": null,
   "id": "ac135d54",
   "metadata": {},
   "outputs": [],
   "source": [
    "L_perp_CCATp = (np.sqrt(Planck15.comoving_distance(z)**2 \\\n",
    "            * specs_CCATp['Omega_surv'])).to(u.Mpc, equivalencies=u.dimensionless_angles())\n",
    "L_para_CCATp = ((const.c / Planck15.H(z)) * (100 * u.GHz) \\\n",
    "          * (1 + z)**2 / nu_CII).to(u.Mpc)\n",
    "\n",
    "L_perp_FYST = (np.sqrt(Planck15.comoving_distance(z)**2 \\\n",
    "            * (100 * u.degree**2))).to(u.Mpc, equivalencies=u.dimensionless_angles())\n",
    "L_para_FYST = ((const.c / Planck15.H(z)) * (100 * u.GHz) \\\n",
    "          * (1 + z)**2 / nu_CII).to(u.Mpc)\n",
    "\n",
    "L_perp_FYST_2 = (np.sqrt(Planck15.comoving_distance(z)**2 \\\n",
    "            * (100 * u.degree**2))).to(u.Mpc, equivalencies=u.dimensionless_angles())\n",
    "L_para_FYST_2 = ((const.c / Planck15.H(z)) * (100 * u.GHz) \\\n",
    "          * (1 + z)**2 / nu_CII).to(u.Mpc)\n",
    "\n",
    "print(L_perp_CCATp, L_para_CCATp)\n",
    "print(L_perp_FYST, L_para_FYST)\n",
    "print(L_perp_FYST_2, L_para_FYST_2)"
   ]
  },
  {
   "cell_type": "code",
   "execution_count": null,
   "id": "0a6bf8b9",
   "metadata": {},
   "outputs": [],
   "source": [
    "print('CCATp:')\n",
    "print(L_perp_CCATp, L_para_CCATp)\n",
    "\n",
    "print('StageII:')\n",
    "print(L_perp_StageII, L_para_StageII)\n",
    "\n",
    "print('HERA:')\n",
    "print(L_perp_HERA, L_para_HERA)\n",
    "\n",
    "print('Box:')\n",
    "print(box_size * u.Mpc, box_size * u.Mpc)"
   ]
  },
  {
   "cell_type": "code",
   "execution_count": null,
   "id": "566cf0ff",
   "metadata": {},
   "outputs": [],
   "source": [
    "fig, ax = plt.subplots(1,1, figsize=(12, 12))\n",
    "\n",
    "k_perp_min_CCATp = (2 * np.pi) / L_perp_21cm\n",
    "k_perp_min_StageII = (2 * np.pi) / L_perp_StageII\n",
    "k_perp_min_HERA = (2 * np.pi) / L_perp_HERA\n",
    "k_perp_min_EXCLAIM_1 = (2 * np.pi) / L_perp_EXCLAIM_1\n",
    "#k_perp_min_EXCLAIM_2 = (2 * np.pi) / L_perp_21cm\n",
    "\n",
    "k_para_min_CCATp = (2 * np.pi) / L_para_21cm\n",
    "k_para_min_StageII = (2 * np.pi) / L_para_StageII\n",
    "k_para_min_HERA = (2 * np.pi) / L_para_HERA\n",
    "k_para_min_EXCLAIM_1 = (2 * np.pi) / L_para_EXCLAIM_1\n",
    "#k_para_min_EXCLAIM_2 = (2 * np.pi) / L_para_EXCLAIM_2\n",
    "\n",
    "k_perp_max_CCATp = 1 / sigma_perp_CCATp\n",
    "k_perp_max_StageII = 1 / sigma_perp_StageII\n",
    "k_perp_max_HERA = 1 / sigma_perp_HERA\n",
    "#k_perp_max_EXCLAIM_1 = 1 / sigma_perp_EXCLAIM_1\n",
    "#k_perp_max_EXCLAIM_2 = 1 / sigma_perp_EXCLAIM_2\n",
    "\n",
    "k_para_max_CCATp = 1 / sigma_para_CCATp\n",
    "k_para_max_StageII = 1 / sigma_para_StageII\n",
    "k_para_max_HERA = 1 / sigma_para_HERA\n",
    "#k_perp_max_EXCLAIM_1 = 1 / sigma_para_EXCLAIM_1\n",
    "#k_perp_max_EXCLAIM_2 = 1 / sigma_para_EXCLAIM_2\n",
    "\n",
    "plot_box(ax, k_perp_min_CCATp.value, k_perp_max_CCATp.value,\n",
    "                             k_para_min_CCATp.value, k_para_max_CCATp.value, colors[0])\n",
    "plot_box(ax, k_perp_min_StageII.value, k_perp_max_StageII.value, \n",
    "                             k_para_min_StageII.value, k_para_max_StageII.value, colors[1])\n",
    "#plot_box(ax, k_perp_min_box.value, k_perp_max_box.value, k_para_min_box.value,\n",
    "#                             k_para_max_box.value, colors[2])\n",
    "plot_box(ax, k_perp_min_HERA.value, k_perp_max_HERA.value,\n",
    "                             k_para_min_HERA.value, k_para_max_HERA.value, colors[3])\n",
    "plot_box(ax, k_perp_min_box.value, k_perp_max_StageII.value, k_para_min_box.value,\n",
    "                     k_para_max_StageII.value, colors[4])\n",
    "\n",
    "\n",
    "\n",
    "setup = ax.set(xlim=(0, 2), ylim=(0, 2), aspect=1)\n",
    "x_l = ax.set_xlabel(r'$k_{\\perp}$', fontsize=20)\n",
    "y_l = ax.set_ylabel(r'$k_{\\parallel}$', fontsize=20)\n",
    "\n",
    "title = ax.set_title('Survey extents in $k$-space', fontsize=20)\n",
    "leg = ax.legend(['CCATp', 'FYST (or Stage II)', 'HERA', 'box w/ FYST resolution'])"
   ]
  },
  {
   "cell_type": "code",
   "execution_count": null,
   "id": "1f861031",
   "metadata": {},
   "outputs": [],
   "source": [
    "def calc_V_surv_generic_check(z, nu_rest, Omega_surv, B_nu):\n",
    "    A_s = Omega_surv  \n",
    "    B_nu = B_nu\n",
    "    r = Planck15.comoving_distance(z)\n",
    "    y = (const.c * (1 + z)**2) / (Planck15.H(z) * nu_rest)\n",
    "    \n",
    "    V = r**2 * y * A_s * B_nu * Planck15.h**3\n",
    "    \n",
    "    return V.to(u.Mpc**3, equivalencies=u.dimensionless_angles())"
   ]
  },
  {
   "cell_type": "code",
   "execution_count": null,
   "id": "c2bfcc6d",
   "metadata": {},
   "outputs": [],
   "source": [
    "biases = utils.extract_bias(k_indices, spectra[1], density_pspec_log)"
   ]
  },
  {
   "cell_type": "code",
   "execution_count": null,
   "id": "69306ed9",
   "metadata": {},
   "outputs": [],
   "source": [
    "indices"
   ]
  },
  {
   "cell_type": "markdown",
   "id": "3736f7b4",
   "metadata": {},
   "source": [
    "# Fitting"
   ]
  },
  {
   "cell_type": "code",
   "execution_count": null,
   "id": "4ecf4fb8",
   "metadata": {},
   "outputs": [],
   "source": [
    "k_indices = [1]\n",
    "\n",
    "biases = utils.extract_bias(k_indices, spectra[1], P_m)\n",
    "#biases_old = utils.extract_bias(k_indices, spectra_old[1], density_pspec_log)\n",
    "\n",
    "#b_i_old = biases_old[0]\n",
    "b_i, b_j, b_k = biases[0:3]\n",
    "data = utils.fetch_data(spectra[0], k_indices, spectra[1])\n",
    "\n",
    "sigma_CIIxOIII = 84.0 * 2 * np.pi**2 / k[k_indices]**3\n",
    "variances = [var_21cm_21cm, var_21cm_CII, var_21cm_OIII, var_CII_OIII, b_i * .25]\n",
    "\n",
    "#N1 = analysis.estimate_errors(data, frac_error=.1)\n",
    "N = analysis.create_noise_matrix(k_indices, variances)\n",
    "\n",
    "p_names = np.asarray(['b_i','b_j', 'b_k', 'P_m'])\n",
    "p_vals = np.asarray([b_i, b_k, b_k, P_m], dtype=object)\n",
    "#p_vals_old = np.asarray([b_i_old, b_k, b_k, P_m], dtype=object)\n",
    "\n",
    "model_params = dict(zip(p_names, p_vals))\n",
    "#model_params_old = dict(zip(p_names, p_vals_old))\n",
    "\n",
    "ndim = utils.choose_params(model_params, k_indices).size\n",
    "\n",
    "model = models.ScalarBias(k=spectra[0], params=model_params)\n",
    "model_cross = models.ScalarBias_crossonly(k=spectra[0], params=model_params)\n",
    "#model_nb_2auto = models.ScalarBias_2auto_3cross(k=k, params=model_params)"
   ]
  },
  {
   "cell_type": "code",
   "execution_count": null,
   "id": "6b1f1aa3",
   "metadata": {},
   "outputs": [],
   "source": [
    "np.diag(N1), np.diag(N2)"
   ]
  },
  {
   "cell_type": "code",
   "execution_count": null,
   "id": "3f2ebc75",
   "metadata": {},
   "outputs": [],
   "source": [
    "model.pspec(k_indices), model_cross.pspec(k_indices)"
   ]
  },
  {
   "cell_type": "markdown",
   "id": "08a1e255",
   "metadata": {},
   "source": [
    "### Least Square Estimators"
   ]
  },
  {
   "cell_type": "markdown",
   "id": "84450b4b",
   "metadata": {},
   "source": [
    "$\\sigma_f = \\sqrt{\\left( \\frac{\\partial f}{\\partial x} \\right)^2 \\sigma_x^2}$\n",
    "\n",
    "with $f(x) = e^x$ and $x=\\ln{P_m}$, yielding,\n",
    "\n",
    "$\\sigma_{P_m} = \\sqrt{\\left( \\frac{\\partial }{\\partial(\\ln{P_m})}\\left[ e^{\\ln{P_m}} \\right] \\right)^2 \\sigma_{\\ln{P_m}}^2} $\n",
    "\n",
    "$= \\sqrt{\\left(e^{\\ln{P_m}}\\right)^2 \\sigma_{\\ln{P_m}}^2}$\n",
    "$= \\sqrt{P^2_m \\sigma_{\\ln{P_m}}^2}$\n",
    "\n",
    "$\\sigma_{P_m} = P_m \\sigma_{\\ln{P_m}}$"
   ]
  },
  {
   "cell_type": "markdown",
   "id": "ccd4fc35",
   "metadata": {},
   "source": [
    "### MCMC's"
   ]
  },
  {
   "cell_type": "code",
   "execution_count": null,
   "id": "be002f37",
   "metadata": {},
   "outputs": [],
   "source": [
    "utils.fetch_data(k, k_indices, spectra[1])"
   ]
  },
  {
   "cell_type": "code",
   "execution_count": null,
   "id": "89338f11",
   "metadata": {},
   "outputs": [],
   "source": [
    "spectra[1][0][k_indices], b_i * b_i * P_m[k_indices]"
   ]
  },
  {
   "cell_type": "code",
   "execution_count": null,
   "id": "d86c6c84",
   "metadata": {},
   "outputs": [],
   "source": [
    "data"
   ]
  },
  {
   "cell_type": "code",
   "execution_count": null,
   "id": "82233d4e",
   "metadata": {},
   "outputs": [],
   "source": [
    "P_21_r = np.ones_like(P_m)\n",
    "P_CII_r = np.ones_like(P_m)\n",
    "P_OIII_r = np.ones_like(P_m)\n",
    "\n",
    "P_21_CII_r = np.ones_like(P_m)\n",
    "P_CII_OIII_r = np.ones_like(P_m)\n",
    "P_21_OIII_r = np.ones_like(P_m)\n",
    "\n",
    "for i, kay in enumerate(k):\n",
    "    biases = utils.extract_bias([i], spectra[1], P_m)\n",
    "    #biases_old = utils.extract_bias(k_indices, spectra_old[1], density_pspec_log)\n",
    "\n",
    "    #b_i_old = biases_old[0]\n",
    "    b_i, b_j, b_k = biases[0:3]\n",
    "    \n",
    "    P_21_r[i] = b_i**2 * P_m[i]\n",
    "    P_CII_r[i] = b_j**2 * P_m[i]\n",
    "    P_OIII_r[i] = b_k**2 * P_m[i]\n",
    "    \n",
    "    P_21_CII_r[i] = b_i * b_j * P_m[i]\n",
    "    P_CII_OIII_r[i] = b_j * b_k * P_m[i]\n",
    "    P_21_OIII_r[i] = b_i * b_k * P_m[i]"
   ]
  },
  {
   "cell_type": "code",
   "execution_count": null,
   "id": "52ba3903",
   "metadata": {},
   "outputs": [],
   "source": [
    "indices"
   ]
  },
  {
   "cell_type": "code",
   "execution_count": null,
   "id": "cddf48c7",
   "metadata": {},
   "outputs": [],
   "source": [
    "fig, ax = plt.subplots(2, 2, figsize=(15,10))\n",
    "\n",
    "ax = ax.flatten()\n",
    "\n",
    "ax[0].plot(k, frac_diff(P_21_r, P_21cm_21cm.value), marker='.')\n",
    "ax[0].plot(k, frac_diff(P_CII_r, spectra[1][3]), marker='.')\n",
    "ax[0].plot(k, frac_diff(P_OIII_r, spectra[1][5]), marker='.')\n",
    "\n",
    "ax[1].plot(k, frac_diff(P_21_CII_r, P_21cm_CII.value), marker='.')\n",
    "ax[2].plot(k, frac_diff(P_CII_OIII_r, P_CII_CII.value), marker='.')\n",
    "ax[3].plot(k, frac_diff(P_21_OIII_r, P_21cm_OIII.value), marker='.')\n",
    "\n",
    "ax[1].axhline(0, ls='--', color='black', alpha=.5)\n",
    "ax[2].axhline(0, ls='--', color='black', alpha=.5)\n",
    "ax[3].axhline(0, ls='--', color='black', alpha=.5)\n",
    "\n",
    "ax[0].set_ylim(-1,1)\n",
    "ax[1].set_ylim(-1,1)\n",
    "ax[2].set_ylim(-1,1)\n",
    "ax[3].set_ylim(-1,1)\n",
    "\n",
    "ax[0].set_xscale('log')\n",
    "ax[1].set_xscale('log')\n",
    "ax[2].set_xscale('log')\n",
    "ax[3].set_xscale('log')"
   ]
  },
  {
   "cell_type": "code",
   "execution_count": null,
   "id": "928a6765",
   "metadata": {},
   "outputs": [],
   "source": [
    "indices"
   ]
  },
  {
   "cell_type": "code",
   "execution_count": null,
   "id": "253ae84a",
   "metadata": {},
   "outputs": [],
   "source": [
    "var_21cm_21cm"
   ]
  },
  {
   "cell_type": "code",
   "execution_count": null,
   "id": "66b761a8",
   "metadata": {},
   "outputs": [],
   "source": [
    "mcmc_results_cross = fitting.recover_params_mcmc(k, k_indices, spectra[1], model_cross,\n",
    "                                    P_m, variances, priors='gaussian',\n",
    "                                    positivity=True, priors_width=.1, noise=False)"
   ]
  },
  {
   "cell_type": "code",
   "execution_count": null,
   "id": "ffbf0c75",
   "metadata": {},
   "outputs": [],
   "source": [
    "mcmc_results = fitting.recover_params_mcmc(k, k_indices, spectra[1], model,\n",
    "                                    density_pspec_log, variances, priors='gaussian',\n",
    "                                    positivity=True, priors_width=.1, noise=False)\n",
    "\n",
    "#mcmc_results_cross = fitting.recover_params_mcmc(k, k_indices, spectra[1], model_cross,\n",
    "#                                    density_pspec_log, variances, priors='gaussian',\n",
    "#                                    positivity=True, priors_width=.1, noise=False)"
   ]
  },
  {
   "cell_type": "code",
   "execution_count": null,
   "id": "44730072",
   "metadata": {},
   "outputs": [],
   "source": [
    "indices"
   ]
  },
  {
   "cell_type": "code",
   "execution_count": null,
   "id": "a74b4327",
   "metadata": {},
   "outputs": [],
   "source": [
    "LSE_results = fitting.recover_params_LSE(k, k_indices, spectra_fields[1], model,\n",
    "                                    density_pspec_log, variances)"
   ]
  },
  {
   "cell_type": "code",
   "execution_count": null,
   "id": "0b074313",
   "metadata": {},
   "outputs": [],
   "source": [
    "np.exp(LSE_results[0])"
   ]
  },
  {
   "cell_type": "code",
   "execution_count": null,
   "id": "9700daa1",
   "metadata": {},
   "outputs": [],
   "source": [
    "biases = utils.extract_bias(k_indices, spectra[1], density_pspec_log)"
   ]
  },
  {
   "cell_type": "code",
   "execution_count": null,
   "id": "3f8a77f5",
   "metadata": {},
   "outputs": [],
   "source": [
    "biases"
   ]
  },
  {
   "cell_type": "code",
   "execution_count": null,
   "id": "9ff9afb0",
   "metadata": {},
   "outputs": [],
   "source": [
    "np.diag(analysis.estimate_errors(data, frac_error=.1))"
   ]
  },
  {
   "cell_type": "code",
   "execution_count": null,
   "id": "82b4e461",
   "metadata": {},
   "outputs": [],
   "source": [
    "np.diag(analysis.create_noise_matrix(k_indices, variances))"
   ]
  },
  {
   "cell_type": "code",
   "execution_count": null,
   "id": "d46df0f6",
   "metadata": {
    "scrolled": true
   },
   "outputs": [],
   "source": [
    "corner_results = corner.corner(mcmc_results_cross[0][0],\n",
    "                            truths=utils.choose_params(model_params, k_indices),\n",
    "                            labels=[r'$b_i$', r'$b_j$', r'$b_k$', r'$P_m$'], \n",
    "                            label_kwargs={'fontsize':48}, truth_color='salmon')"
   ]
  },
  {
   "cell_type": "code",
   "execution_count": null,
   "id": "f457b6f8",
   "metadata": {},
   "outputs": [],
   "source": [
    "ndim_corner = ndim + 3\n",
    "\n",
    "samples = mcmc_results_cross[0][0]\n",
    "samples_00 = analysis.add_P(samples, k_indices, (0,0))\n",
    "samples_11 = analysis.add_P(samples_00, k_indices, (1,1))\n",
    "samples_22 = analysis.add_P(samples_11, k_indices, (2,2))\n",
    "\n",
    "corner_gaussian = corner.corner(samples_22,\n",
    "            truths=[*utils.choose_params(mcmc_results_cross[1], k_indices), spectra[1][1][k_indices],\n",
    "                   spectra[1][3][k_indices], spectra[1][5][k_indices]],\n",
    "            labels=[r'$b_i$', r'$b_j$', r'$b_k$', r'$P_m$', r'$P_{ii}$', r'$P_{jj}$', r'$P_{kk}$'],\n",
    "            label_kwargs={'fontsize':48}, truth_color='salmon')\n",
    "\n",
    "axes = np.array(corner_gaussian.axes).reshape((ndim_corner, ndim_corner))\n",
    "\n",
    "# Loop over the diagonal\n",
    "for i in range(ndim):\n",
    "    ax = axes[i, i]\n",
    "  #  ax.axvline(np.median(samples[:,i]), color='darkgreen')\n",
    "  #  ax.axvline(np.median(samples[:,i]) - np.sqrt(samples[:,i].var()), color=\"lightgreen\")\n",
    "  #  ax.axvline(np.median(samples[:,i]) + np.sqrt(samples[:,i].var()), color=\"lightgreen\")\n",
    "\n",
    "axes[4,4].axvline(np.median(samples_22[:,4]), color='darkgreen')"
   ]
  },
  {
   "cell_type": "code",
   "execution_count": null,
   "id": "5d29838b",
   "metadata": {},
   "outputs": [],
   "source": [
    "ndim_corner = ndim + 6\n",
    "\n",
    "samples = mcmc_results_cross[0][0]\n",
    "samples_00 = analysis.add_P(samples, k_indices, (0,0))\n",
    "samples_11 = analysis.add_P(samples_00, k_indices, (1,1))\n",
    "samples_22 = analysis.add_P(samples_11, k_indices, (2,2))\n",
    "samples_01 = analysis.add_P(samples_22, k_indices, (0,1))\n",
    "samples_12 = analysis.add_P(samples_01, k_indices, (1,2))\n",
    "samples_02 = analysis.add_P(samples_12, k_indices, (0,2))\n",
    "\n",
    "corner_gaussian = corner.corner(samples_02,\n",
    "            truths=[*utils.choose_params(mcmc_results_cross[1], k_indices), *spectra[1][0][k_indices],\n",
    "                   *spectra[1][3][k_indices], *spectra[1][5][k_indices],\n",
    "                   *spectra[1][1][k_indices], spectra[1][4][k_indices],\n",
    "                   spectra[1][2][k_indices]],\n",
    "            labels=[r'$b_i$', r'$b_j$', r'$b_k$', r'$P_m$', r'$P_{ii}$', r'$P_{jj}$', r'$P_{kk}$',\n",
    "                   r'$P_{ij}$', r'$P_{jk}$', r'$P_{ik}$'],\n",
    "            label_kwargs={'fontsize':48}, truth_color='salmon')\n",
    "\n",
    "axes = np.array(corner_gaussian.axes).reshape((ndim_corner, ndim_corner))\n",
    "\n",
    "# Loop over the diagonal\n",
    "for i in range(7,10):\n",
    "    ax = axes[i, i]\n",
    "    print(samples_02[:,i].var())\n",
    "    ax.axvline(np.median(samples_02[:,i]), color='darkgreen')\n",
    "    ax.axvline(np.median(samples_02[:,i]) - np.sqrt(samples_02[:,i].var()), color=\"lightgreen\")\n",
    "    ax.axvline(np.median(samples_02[:,i]) + np.sqrt(samples_02[:,i].var()), color=\"lightgreen\")"
   ]
  },
  {
   "cell_type": "code",
   "execution_count": null,
   "id": "7efe9d12",
   "metadata": {},
   "outputs": [],
   "source": [
    "var_mcmc = np.asarray([30408405900366.04, 22747315817215.953, 33181895677083.312])"
   ]
  },
  {
   "cell_type": "code",
   "execution_count": null,
   "id": "056d1192",
   "metadata": {},
   "outputs": [],
   "source": [
    "var_21cm_CII[k_indices], var_CII_OIII[k_indices], var_21cm_OIII[k_indices]"
   ]
  },
  {
   "cell_type": "code",
   "execution_count": null,
   "id": "d8fad661",
   "metadata": {},
   "outputs": [],
   "source": [
    "var_mcmc[0] / var_21cm_CII.value[k_indices]"
   ]
  },
  {
   "cell_type": "code",
   "execution_count": null,
   "id": "1d6ebe7c",
   "metadata": {},
   "outputs": [],
   "source": [
    "var_mcmc[1] / var_CII_OIII.value[k_indices]"
   ]
  },
  {
   "cell_type": "code",
   "execution_count": null,
   "id": "0a00e2b6",
   "metadata": {},
   "outputs": [],
   "source": [
    "var_mcmc[2] / var_21cm_OIII.value[k_indices]"
   ]
  },
  {
   "cell_type": "code",
   "execution_count": null,
   "id": "2f2dfca7",
   "metadata": {},
   "outputs": [],
   "source": [
    "test = fitting.recover_params_mcmc(k[ind], [ind], spectra[1], model_cross,\n",
    "                                    P_m, variances, priors='gaussian',\n",
    "                                    positivity=True, priors_width=.1, noise=False)"
   ]
  },
  {
   "cell_type": "code",
   "execution_count": null,
   "id": "4557a62b",
   "metadata": {},
   "outputs": [],
   "source": [
    "LSE_all_k = [[] for i in range(18)] \n",
    "\n",
    "for ind in range(1, k.size - 1):\n",
    "    LSE_all_k[ind-1] = fitting.recover_params_LSE(k, [ind], spectra[1], model,\n",
    "                                                   P_m, variances)"
   ]
  },
  {
   "cell_type": "code",
   "execution_count": null,
   "id": "c1a47bf8",
   "metadata": {
    "scrolled": true
   },
   "outputs": [],
   "source": [
    "mcmc_all_k = [[] for i in range(18)] \n",
    "\n",
    "for ind in range(1, k.size - 1):\n",
    "    mcmc_all_k[ind-1] = fitting.recover_params_mcmc(k, [ind], spectra[1], model_cross,\n",
    "                                    P_m, variances, priors='gaussian',\n",
    "                                    positivity=True, priors_width=.1, noise=False)"
   ]
  },
  {
   "cell_type": "code",
   "execution_count": null,
   "id": "edb45a6e",
   "metadata": {},
   "outputs": [],
   "source": [
    "P_21_Beane = P_21cm_CII.value[1:-1] * P_21cm_OIII.value[1:-1] / P_CII_OIII.value[1:-1]\n",
    "\n",
    "P_21_mcmc = np.zeros(len(mcmc_all_k))\n",
    "var_21_mcmc = np.zeros(len(mcmc_all_k))\n",
    "b_i_mcmc = np.zeros(len(mcmc_all_k))\n",
    "P_m_mcmc = np.zeros(len(mcmc_all_k))\n",
    "\n",
    "b_i_LSE = np.zeros(len(mcmc_all_k))\n",
    "P_m_LSE = np.zeros(len(mcmc_all_k))\n",
    "\n",
    "sig_b_i_LSE = np.zeros(len(mcmc_all_k))\n",
    "sig_P_m_LSE = np.zeros(len(mcmc_all_k))\n",
    "\n",
    "params_true = [[] for i in range(len(mcmc_all_k))]\n",
    "\n",
    "for i in range(len(mcmc_all_k)):\n",
    "    samples = mcmc_all_k[i][0][0]\n",
    "    \n",
    "    samples_b_i = samples[:,0]\n",
    "    samples_P_m = samples[:,3]\n",
    "    \n",
    "    P_21_samples = samples_b_i**2 * samples_P_m\n",
    "    \n",
    "    P_21_mcmc[i] = np.median(P_21_samples)\n",
    "    var_21_mcmc[i] = np.var(P_21_samples)\n",
    "    sig_b_i_LSE[i] = np.sqrt(np.exp(2 * LSE_all_k[i][0][0]) * LSE_all_k[i][1][0,0])\n",
    "    sig_P_m_LSE[i] = np.exp(LSE_all_k[i][0][3]) * np.sqrt(LSE_all_k[i][1][3,3])\n",
    "    \n",
    "    params_true[i] = mcmc_all_k[i][1]\n",
    "    b_i_mcmc[i] = np.median(samples_b_i)\n",
    "    P_m_mcmc[i] = np.median(samples_P_m)\n",
    "    \n",
    "    b_i_LSE[i] = np.exp(LSE_all_k[i][0][0])\n",
    "    P_m_LSE[i] = np.exp(LSE_all_k[i][0][3])\n",
    "\n",
    "P_21_LSE = b_i_LSE**2 * P_m_LSE\n",
    "var_21_LSE = (sig_b_i_LSE / b_i_LSE)**2 + (sig_P_m_LSE / P_m_LSE)**2"
   ]
  },
  {
   "cell_type": "code",
   "execution_count": null,
   "id": "e5ca4056",
   "metadata": {},
   "outputs": [],
   "source": [
    "samples_b_i"
   ]
  },
  {
   "cell_type": "code",
   "execution_count": null,
   "id": "b1f91b6d",
   "metadata": {
    "scrolled": true
   },
   "outputs": [],
   "source": [
    "fig, ax = plt.subplots()\n",
    "\n",
    "ax.plot(k[:-1], P_21cm_21cm.value[:-1] * k[:-1]**3 / (2 * np.pi**2))\n",
    "\n",
    "ax.errorbar(k[1:-1], P_21_mcmc * k[1:-1]**3 / (2 * np.pi**2),\n",
    "            yerr=np.sqrt(var_21_mcmc) * k[1:-1]**3 / (2 * np.pi**2))\n",
    "\n",
    "\n",
    "ax.set_yscale('log')\n",
    "ax.set_xscale('log')"
   ]
  },
  {
   "cell_type": "code",
   "execution_count": null,
   "id": "edf7c9fe",
   "metadata": {},
   "outputs": [],
   "source": [
    "b_0 = np.zeros_like(P_21_mcmc)\n",
    "\n",
    "for i in range(len(P_21_mcmc)):\n",
    "    b_0[i] = params_true[i]['b_i']"
   ]
  },
  {
   "cell_type": "code",
   "execution_count": null,
   "id": "6b0f7942",
   "metadata": {},
   "outputs": [],
   "source": [
    "plt.loglog(k, P_21cm_21cm)\n",
    "plt.loglog(k[1:-1], b_0**2 * P_m[1:-1])"
   ]
  },
  {
   "cell_type": "code",
   "execution_count": null,
   "id": "6658de93",
   "metadata": {},
   "outputs": [],
   "source": [
    "b_i_mcmc**2 * P_m_mcmc / P_21_mcmc"
   ]
  },
  {
   "cell_type": "code",
   "execution_count": null,
   "id": "58b05c43",
   "metadata": {},
   "outputs": [],
   "source": [
    "fig, ax = plt.subplots()\n",
    "\n",
    "ax.plot(k[1:-1], b_0, marker='.')\n",
    "ax.plot(k[1:-1], b_i_mcmc)\n",
    "\n",
    "ax.fill_between(k[1:-1], b_0 + b_0 * .1 , b_0 - b_0 * .1, alpha=.1, facecolor=colors[0])\n",
    "ax.fill_between(k[1:-1], b_0 + b_0 * .2 , b_0 + b_0 * .1, alpha=.1, facecolor=colors[1])\n",
    "ax.fill_between(k[1:-1], b_0 - b_0 * .2 , b_0 - b_0 * .1, alpha=.1, facecolor=colors[1])\n",
    "\n",
    "ax.set_xscale('log')"
   ]
  },
  {
   "cell_type": "code",
   "execution_count": null,
   "id": "73325e57",
   "metadata": {},
   "outputs": [],
   "source": [
    "fig, ax = plt.subplots(figsize=(10,7))\n",
    "\n",
    "def frac_diff(model, true=P_21cm_21cm.value[1:-1]):\n",
    "    return (true - model) / model\n",
    "\n",
    "ax.plot(k[1:-1], frac_diff(P_21cm_21cm.value[1:-1]),\n",
    "           label='True')\n",
    "\n",
    "ax.plot(k[1:-1], frac_diff(b_0**2 * P_m[1:-1]),\n",
    "           label='True from Crosscorrelations')\n",
    "\n",
    "ax.plot(k[1:-1], frac_diff(P_21_mcmc),\n",
    "           label='MCMC reconstructed')\n",
    "\n",
    "ax.plot(k[1:-1], frac_diff(P_21_Beane),\n",
    "           label='Beane et al.')\n",
    "\n",
    "ax.plot(k[1:-1], frac_diff(b_i_mcmc**2 * P_m_mcmc),\n",
    "           label='MCMC params')\n",
    "\n",
    "\n",
    "ax.set_ylim(-1e-2, 2)\n",
    "\n",
    "ax.legend()"
   ]
  },
  {
   "cell_type": "code",
   "execution_count": null,
   "id": "cf7a9edd",
   "metadata": {},
   "outputs": [],
   "source": [
    "fig, ax = plt.subplots(figsize=(10,7))\n",
    "\n",
    "ax.errorbar(k[1:-1], P_21cm_21cm.value[1:-1] * k[1:-1]**3 / (2 * np.pi**2),\n",
    "            yerr=np.sqrt(var_21cm_21cm[:-1].value) * k[1:-1]**3 / (2 * np.pi**2),\n",
    "           label='True')\n",
    "\n",
    "ax.errorbar(k[1:-1], P_21_mcmc * k[1:-1]**3 / (2 * np.pi**2),\n",
    "            yerr=np.sqrt(var_21_mcmc) * k[1:-1]**3 / (2 * np.pi**2),\n",
    "           label='MCMC reconstructed', lw=2)\n",
    "\n",
    "ax.errorbar(k[1:-1], P_21cm_CII.value[1:-1] * P_21cm_OIII.value[1:-1] / P_CII_OIII.value[1:-1] * k[1:-1]**3 / (2 * np.pi**2),\n",
    "            yerr=np.sqrt(var_Beane[:-1]) * k[1:-1]**3 / (2 * np.pi**2),\n",
    "           label='Beane et al.')\n",
    "\n",
    "ax.errorbar(k[1:-1], b_i_LSE**2 * P_m_LSE * k[1:-1]**3 / (2 * np.pi**2),\n",
    "            yerr=np.sqrt(var_21_LSE) * k[1:-1]**3 / (2 * np.pi**2),\n",
    "           label='LSE reconstructed', ls='-')\n",
    "\n",
    "ax.legend()\n",
    "\n",
    "ax.set_yscale('log')\n",
    "ax.set_xscale('log')"
   ]
  },
  {
   "cell_type": "code",
   "execution_count": null,
   "id": "a4a59f3e",
   "metadata": {},
   "outputs": [],
   "source": [
    "P_21_mcmc, P_21cm_21cm[1:-1]"
   ]
  },
  {
   "cell_type": "code",
   "execution_count": null,
   "id": "f9497dcc",
   "metadata": {},
   "outputs": [],
   "source": [
    "mcmc_results_cross = fitting.recover_params_mcmc(k, k_indices, spectra[1], model_cross,\n",
    "                                    P_m, variances, priors='gaussian',\n",
    "                                    positivity=True, priors_width=.1, noise=False)"
   ]
  },
  {
   "cell_type": "code",
   "execution_count": null,
   "id": "dcbc0acc",
   "metadata": {},
   "outputs": [],
   "source": [
    "k[k_ind]"
   ]
  },
  {
   "cell_type": "code",
   "execution_count": null,
   "id": "7e9f8f74",
   "metadata": {},
   "outputs": [],
   "source": [
    "which_k = 15\n",
    "k_ind = [which_k + 1]\n",
    "ndim_corner = ndim + 6\n",
    "\n",
    "samples = mcmc_all_k[which_k][0][0]\n",
    "samples_00 = analysis.add_P(samples, k_ind, (0,0))\n",
    "samples_11 = analysis.add_P(samples_00, k_ind, (1,1))\n",
    "samples_22 = analysis.add_P(samples_11, k_ind, (2,2))\n",
    "samples_01 = analysis.add_P(samples_22, k_ind, (0,1))\n",
    "samples_12 = analysis.add_P(samples_01, k_ind, (1,2))\n",
    "samples_02 = analysis.add_P(samples_12, k_ind, (0,2))\n",
    "\n",
    "corner_gaussian = corner.corner(samples_02,\n",
    "            truths=[*utils.choose_params(mcmc_all_k[which_k][1], k_ind), *spectra[1][0][k_ind],\n",
    "                   *spectra[1][3][k_ind], *spectra[1][5][k_ind],\n",
    "                   *spectra[1][1][k_ind], spectra[1][4][k_ind],\n",
    "                   spectra[1][2][k_ind]],\n",
    "            labels=[r'$b_i$', r'$b_j$', r'$b_k$', r'$P_m$', r'$P_{ii}$', r'$P_{jj}$', r'$P_{kk}$',\n",
    "                   r'$P_{ij}$', r'$P_{jk}$', r'$P_{ik}$'],\n",
    "            label_kwargs={'fontsize':48}, truth_color='salmon')\n",
    "\n",
    "axes = np.array(corner_gaussian.axes).reshape((ndim_corner, ndim_corner))\n",
    "\n",
    "# Loop over the diagonal\n",
    "for i in range(7,10):\n",
    "    ax = axes[i, i]\n",
    "    print(samples_02[:,i].var())\n",
    "    ax.axvline(np.median(samples_02[:,i]), color='darkgreen')\n",
    "    ax.axvline(np.median(samples_02[:,i]) - np.sqrt(samples_02[:,i].var()), color=\"lightgreen\")\n",
    "    ax.axvline(np.median(samples_02[:,i]) + np.sqrt(samples_02[:,i].var()), color=\"lightgreen\")"
   ]
  },
  {
   "cell_type": "markdown",
   "id": "c5e05649",
   "metadata": {},
   "source": [
    "### Error comparison with Beane et al."
   ]
  },
  {
   "cell_type": "code",
   "execution_count": null,
   "id": "6093bbd4",
   "metadata": {},
   "outputs": [],
   "source": [
    "var_Beane = analysis.var_Pii_Beane_et_al(spectra[1], np.sqrt(var_21cm_21cm.value),\n",
    "                        np.sqrt(var_CII_CII.value), np.sqrt(var_OIII_OIII.value), N_modes)"
   ]
  },
  {
   "cell_type": "code",
   "execution_count": null,
   "id": "21b7f025",
   "metadata": {},
   "outputs": [],
   "source": [
    "var_21_LSE / P_21_LSE"
   ]
  },
  {
   "cell_type": "code",
   "execution_count": null,
   "id": "746573c7",
   "metadata": {},
   "outputs": [],
   "source": [
    "np.sqrt(var_21cm_21cm)[k_indices] * np.sqrt(var_CII_CII)[k_indices], var_21cm_CII[k_indices]"
   ]
  },
  {
   "cell_type": "code",
   "execution_count": null,
   "id": "4c9fb7c8",
   "metadata": {
    "scrolled": true
   },
   "outputs": [],
   "source": [
    "fig, ax = plt.subplots()\n",
    "\n",
    "ax.errorbar(k[:-1], P_21cm_CII.value[:-1] * P_21cm_OIII.value[:-1] / P_CII_OIII.value[:-1] * k[:-1]**3 / (2 * np.pi**2),\n",
    "            yerr=np.sqrt(var_Beane) * k[:-1]**3 / (2 * np.pi**2))\n",
    "\n",
    "ax.errorbar(k[:-1], P_21cm_21cm.value[:-1] * k[:-1]**3 / (2 * np.pi**2),\n",
    "            yerr=np.sqrt(var_21cm_21cm.value) * k[:-1]**3 / (2 * np.pi**2))\n",
    "\n",
    "ax.set_yscale('log')\n",
    "ax.set_xscale('log')"
   ]
  },
  {
   "cell_type": "code",
   "execution_count": null,
   "id": "7020403e",
   "metadata": {},
   "outputs": [],
   "source": [
    "corner_results = corner.corner(mcmc_results[0][0],\n",
    "                            truths=utils.choose_params(model_params, k_indices),\n",
    "                            labels=[r'$b_i$', r'$b_j$', r'$b_k$', r'$P_m$'], \n",
    "                            label_kwargs={'fontsize':48}, truth_color='royalblue')"
   ]
  },
  {
   "cell_type": "code",
   "execution_count": null,
   "id": "07e8609a",
   "metadata": {},
   "outputs": [],
   "source": [
    "ndim_corner = ndim + 3\n",
    "\n",
    "samples = mcmc_results[0][0]\n",
    "samples_00 = analysis.add_P(samples, k_indices, (0,0))\n",
    "samples_11 = analysis.add_P(samples_00, k_indices, (1,1))\n",
    "samples_22 = analysis.add_P(samples_11, k_indices, (2,2))\n",
    "\n",
    "corner_gaussian = corner.corner(samples_22,\n",
    "            truths=[*utils.choose_params(mcmc_results[1], k_indices), spectra[1][0][k_indices],\n",
    "                   spectra[1][3][k_indices], spectra[1][5][k_indices]],\n",
    "            labels=[r'$b_i$', r'$b_j$', r'$b_k$', r'$P_m$', r'$P_{ii}$', r'$P_{jj}$', r'$P_{kk}$'],\n",
    "            label_kwargs={'fontsize':48}, truth_color='royalblue')\n",
    "\n",
    "axes = np.array(corner_gaussian.axes).reshape((ndim_corner, ndim_corner))\n",
    "\n",
    "# Loop over the diagonal\n",
    "for i in range(ndim):\n",
    "    ax = axes[i, i]\n",
    "  #  ax.axvline(np.median(samples[:,i]), color='darkgreen')\n",
    "  #  ax.axvline(np.median(samples[:,i]) - np.sqrt(samples[:,i].var()), color=\"lightgreen\")\n",
    "  #  ax.axvline(np.median(samples[:,i]) + np.sqrt(samples[:,i].var()), color=\"lightgreen\")\n"
   ]
  },
  {
   "cell_type": "code",
   "execution_count": null,
   "id": "5c588251",
   "metadata": {},
   "outputs": [],
   "source": [
    "ndim_corner = ndim + 6\n",
    "\n",
    "samples = mcmc_results[0][0]\n",
    "samples_00 = analysis.add_P(samples, k_indices, (0,0))\n",
    "samples_11 = analysis.add_P(samples_00, k_indices, (1,1))\n",
    "samples_22 = analysis.add_P(samples_11, k_indices, (2,2))\n",
    "samples_01 = analysis.add_P(samples_22, k_indices, (0,1))\n",
    "samples_12 = analysis.add_P(samples_01, k_indices, (1,2))\n",
    "samples_02 = analysis.add_P(samples_12, k_indices, (0,2))\n",
    "\n",
    "corner_gaussian = corner.corner(samples_02,\n",
    "            truths=[*utils.choose_params(mcmc_results[1], k_indices), *spectra[1][0][k_indices],\n",
    "                   *spectra[1][3][k_indices], *spectra[1][5][k_indices],\n",
    "                   *spectra[1][1][k_indices], spectra[1][4][k_indices],\n",
    "                   spectra[1][2][k_indices]],\n",
    "            labels=[r'$b_i$', r'$b_j$', r'$b_k$', r'$P_m$', r'$P_{ii}$', r'$P_{jj}$', r'$P_{kk}$',\n",
    "                   r'$P_{ij}$', r'$P_{jk}$', r'$P_{ik}$'],\n",
    "            label_kwargs={'fontsize':48}, truth_color='royalblue')\n",
    "\n",
    "axes = np.array(corner_gaussian.axes).reshape((ndim_corner, ndim_corner))\n",
    "\n",
    "# Loop over the diagonal\n",
    "for i in range(ndim):\n",
    "    ax = axes[i, i]\n",
    "  #  ax.axvline(np.median(samples[:,i]), color='darkgreen')\n",
    "  #  ax.axvline(np.median(samples[:,i]) - np.sqrt(samples[:,i].var()), color=\"lightgreen\")\n",
    "  #  ax.axvline(np.median(samples[:,i]) + np.sqrt(samples[:,i].var()), color=\"lightgreen\")\n"
   ]
  },
  {
   "cell_type": "code",
   "execution_count": null,
   "id": "304d2f2a",
   "metadata": {},
   "outputs": [],
   "source": [
    "corner_cross = corner.corner(mcmc_results_cross[0][0],\n",
    "                            truths=utils.choose_params(model_params, k_indices),\n",
    "                            labels=[r'$b_i$', r'$b_j$', r'$b_k$', r'$P_m$'], \n",
    "                            label_kwargs={'fontsize':48}, truth_color='royalblue')"
   ]
  },
  {
   "cell_type": "code",
   "execution_count": null,
   "id": "e15557a1",
   "metadata": {},
   "outputs": [],
   "source": [
    "corner_cross_old = corner.corner(mcmc_results_cross_old[0][0],\n",
    "                            truths=utils.choose_params(model_params_old, k_indices),\n",
    "                            labels=[r'$b_i$', r'$b_j$', r'$b_k$', r'$P_m$'], \n",
    "                            label_kwargs={'fontsize':48}, truth_color='salmon')"
   ]
  },
  {
   "cell_type": "code",
   "execution_count": null,
   "id": "3cf3b781",
   "metadata": {},
   "outputs": [],
   "source": [
    "ndim_corner = ndim + 3\n",
    "\n",
    "samples = mcmc_results_cross[0][0]\n",
    "samples_00 = analysis.add_P(samples, k_indices, (0,0))\n",
    "samples_11 = analysis.add_P(samples_00, k_indices, (1,1))\n",
    "samples_22 = analysis.add_P(samples_11, k_indices, (2,2))\n",
    "\n",
    "corner_gaussian = corner.corner(samples_22,\n",
    "            truths=[*utils.choose_params(mcmc_results_cross[1], k_indices), spectra[1][0][k_indices],\n",
    "                   spectra[1][3][k_indices], spectra[1][5][k_indices]],\n",
    "            labels=[r'$b_i$', r'$b_j$', r'$b_k$', r'$P_m$', r'$P_{ii}$', r'$P_{jj}$', r'$P_{kk}$'],\n",
    "            label_kwargs={'fontsize':48}, truth_color='royalblue')\n",
    "\n",
    "axes = np.array(corner_gaussian.axes).reshape((ndim_corner, ndim_corner))\n",
    "\n",
    "# Loop over the diagonal\n",
    "for i in range(ndim_corner):\n",
    "    ax = axes[i, i]\n",
    "   # ax.axvline(np.median(samples_22[:,i]), color='darkgreen')\n",
    "   # ax.axvline(np.median(samples_22[:,i]) - np.sqrt(samples_22[:,i].var()), color=\"lightgreen\")\n",
    "   # ax.axvline(np.median(samples_22[:,i]) + np.sqrt(samples_22[:,i].var()), color=\"lightgreen\")\n"
   ]
  },
  {
   "cell_type": "code",
   "execution_count": null,
   "id": "1019473d",
   "metadata": {},
   "outputs": [],
   "source": [
    "ndim_corner = ndim + 3\n",
    "\n",
    "samples = mcmc_results_cross_old[0][0]\n",
    "samples_00 = analysis.add_P(samples, k_indices, (0,0))\n",
    "samples_11 = analysis.add_P(samples_00, k_indices, (1,1))\n",
    "samples_22 = analysis.add_P(samples_11, k_indices, (2,2))\n",
    "\n",
    "corner_gaussian = corner.corner(samples_22,\n",
    "            truths=[*utils.choose_params(mcmc_results_cross_old[1], k_indices), spectra_old[1][0][k_indices],\n",
    "                   spectra_old[1][3][k_indices], spectra_old[1][5][k_indices]],\n",
    "            labels=[r'$b_i$', r'$b_j$', r'$b_k$', r'$P_m$', r'$P_{ii}$', r'$P_{jj}$', r'$P_{kk}$'],\n",
    "            label_kwargs={'fontsize':48}, truth_color='salmon')\n",
    "\n",
    "axes = np.array(corner_gaussian.axes).reshape((ndim_corner, ndim_corner))\n",
    "\n",
    "# Loop over the diagonal\n",
    "for i in range(ndim_corner):\n",
    "    ax = axes[i, i]\n",
    " #   ax.axvline(np.median(samples_22[:,i]), color='darkgreen')\n",
    " #   ax.axvline(np.median(samples_22[:,i]) - np.sqrt(samples_22[:,i].var()), color=\"lightgreen\")\n",
    " #   ax.axvline(np.median(samples_22[:,i]) + np.sqrt(samples_22[:,i].var()), color=\"lightgreen\")\n"
   ]
  },
  {
   "cell_type": "code",
   "execution_count": null,
   "id": "581b5911",
   "metadata": {},
   "outputs": [],
   "source": [
    "ndim_corner = ndim + 6\n",
    "\n",
    "samples = mcmc_results_cross_old[0][0]\n",
    "samples_00 = analysis.add_P(samples, k_indices, (0,0))\n",
    "samples_11 = analysis.add_P(samples_00, k_indices, (1,1))\n",
    "samples_22 = analysis.add_P(samples_11, k_indices, (2,2))\n",
    "samples_01 = analysis.add_P(samples_22, k_indices, (0,1))\n",
    "samples_12 = analysis.add_P(samples_01, k_indices, (1,2))\n",
    "samples_02 = analysis.add_P(samples_12, k_indices, (0,2))\n",
    "\n",
    "corner_gaussian = corner.corner(samples_02,\n",
    "            truths=[*utils.choose_params(mcmc_results_cross_old[1], k_indices), *spectra_old[1][0][k_indices],\n",
    "                   *spectra_old[1][3][k_indices], *spectra_old[1][5][k_indices],\n",
    "                   *spectra_old[1][1][k_indices], spectra_old[1][4][k_indices],\n",
    "                   spectra_old[1][2][k_indices]],\n",
    "            labels=[r'$b_i$', r'$b_j$', r'$b_k$', r'$P_m$', r'$P_{ii}$', r'$P_{jj}$', r'$P_{kk}$',\n",
    "                   r'$P_{ij}$', r'$P_{jk}$', r'$P_{ik}$'],\n",
    "            label_kwargs={'fontsize':48}, truth_color='salmon')\n",
    "\n",
    "axes = np.array(corner_gaussian.axes).reshape((ndim_corner, ndim_corner))\n",
    "\n",
    "# Loop over the diagonal\n",
    "for i in range(ndim):\n",
    "    ax = axes[i, i]\n",
    "#    ax.axvline(np.median(samples[:,i]), color='darkgreen')\n",
    "#    ax.axvline(np.median(samples[:,i]) - np.sqrt(samples[:,i].var()), color=\"lightgreen\")\n",
    "#    ax.axvline(np.median(samples[:,i]) + np.sqrt(samples[:,i].var()), color=\"lightgreen\")\n"
   ]
  },
  {
   "cell_type": "code",
   "execution_count": null,
   "id": "5f5431e5",
   "metadata": {},
   "outputs": [],
   "source": [
    "ndim_corner = ndim + 6\n",
    "\n",
    "samples = mcmc_results_cross[0][0]\n",
    "samples_00 = analysis.add_P(samples, k_indices, (0,0))\n",
    "samples_11 = analysis.add_P(samples_00, k_indices, (1,1))\n",
    "samples_22 = analysis.add_P(samples_11, k_indices, (2,2))\n",
    "samples_01 = analysis.add_P(samples_22, k_indices, (0,1))\n",
    "samples_12 = analysis.add_P(samples_01, k_indices, (1,2))\n",
    "samples_02 = analysis.add_P(samples_12, k_indices, (0,2))\n",
    "\n",
    "corner_gaussian = corner.corner(samples_02,\n",
    "            truths=[*utils.choose_params(mcmc_results_cross[1], k_indices), *spectra[1][0][k_indices],\n",
    "                   *spectra[1][3][k_indices], *spectra[1][5][k_indices],\n",
    "                   *spectra[1][1][k_indices], spectra[1][4][k_indices],\n",
    "                   spectra[1][2][k_indices]],\n",
    "            labels=[r'$b_i$', r'$b_j$', r'$b_k$', r'$P_m$', r'$P_{ii}$', r'$P_{jj}$', r'$P_{kk}$',\n",
    "                   r'$P_{ij}$', r'$P_{jk}$', r'$P_{ik}$'],\n",
    "            label_kwargs={'fontsize':48}, truth_color='royalblue')\n",
    "\n",
    "axes = np.array(corner_gaussian.axes).reshape((ndim_corner, ndim_corner))\n",
    "\n",
    "# Loop over the diagonal\n",
    "for i in range(ndim):\n",
    "    ax = axes[i, i]\n",
    "#    ax.axvline(np.median(samples[:,i]), color='darkgreen')\n",
    "#    ax.axvline(np.median(samples[:,i]) - np.sqrt(samples[:,i].var()), color=\"lightgreen\")\n",
    "#    ax.axvline(np.median(samples[:,i]) + np.sqrt(samples[:,i].var()), color=\"lightgreen\")\n"
   ]
  },
  {
   "cell_type": "code",
   "execution_count": null,
   "id": "a32f6fd4",
   "metadata": {},
   "outputs": [],
   "source": [
    "P_21[k_indices]"
   ]
  },
  {
   "cell_type": "code",
   "execution_count": null,
   "id": "270470ac",
   "metadata": {},
   "outputs": [],
   "source": [
    "spectra_old[1][0]"
   ]
  },
  {
   "cell_type": "code",
   "execution_count": null,
   "id": "15667b67",
   "metadata": {},
   "outputs": [],
   "source": [
    "indices"
   ]
  },
  {
   "cell_type": "code",
   "execution_count": null,
   "id": "9a31c8f6",
   "metadata": {},
   "outputs": [],
   "source": [
    "P_ii, P_ij, P_ik, P_jj, P_jk, P_kk = spectra[1]\n",
    "\n",
    "P_ii = P_ii[:-1]\n",
    "P_jj = P_jj[:-1]\n",
    "P_kk = P_kk[:-1]\n",
    "P_ij = P_ij[:-1]\n",
    "P_jk = P_jk[:-1]\n",
    "P_ik = P_ik[:-1]\n",
    "\n",
    "P_ii_tot = P_ii #+ (P_21 * .1)[k_indices]\n",
    "P_jj_tot = P_jj #+ np.sqrt(var_CII_CII.value)\n",
    "P_kk_tot = P_kk #+ np.sqrt(var_CII_OIII.value)\n",
    "\n",
    "var_P_ii = (P_ij / P_ik)**2 * (P_ik**2 + P_ii_tot * P_kk_tot) \\\n",
    "    + (P_ik / P_ij)**2 * (P_ij**2 + P_ii_tot * P_jj_tot) \\\n",
    "    + (P_ij * P_ik / P_jk**2)**2 * (P_jk**2 + P_jj_tot * P_kk_tot) \\\n",
    "    + (P_ij * P_ik / P_jk**2) * (P_ii_tot * P_jk + P_ij * P_ik) \\\n",
    "    - (P_ij**2 * P_ik / P_jk**3) * (P_kk_tot * P_ik + P_ik * P_jk) \\\n",
    "    - (P_ij * P_ik**2 / P_jk**3) * (P_jj_tot * P_ik + P_ij * P_jk) \\\n"
   ]
  },
  {
   "cell_type": "code",
   "execution_count": null,
   "id": "14acf077",
   "metadata": {},
   "outputs": [],
   "source": [
    "plt.errorbar(k[:-1], P_ii, yerr=np.sqrt(var_P_ii / N_modes))\n",
    "plt.xscale('log')\n",
    "plt.yscale('log')\n",
    "\n",
    "plt.axvline(.1, color='k')"
   ]
  },
  {
   "cell_type": "code",
   "execution_count": null,
   "id": "c6f45849",
   "metadata": {},
   "outputs": [],
   "source": [
    "np.sqrt(var_P_ii) / Beane_P_21"
   ]
  },
  {
   "cell_type": "code",
   "execution_count": null,
   "id": "16f4661f",
   "metadata": {},
   "outputs": [],
   "source": [
    "np.sqrt(var_Beane) / P_21cm_21cm.value[:-1]"
   ]
  },
  {
   "cell_type": "code",
   "execution_count": null,
   "id": "3947ea52",
   "metadata": {},
   "outputs": [],
   "source": [
    "P_21_old = spectra_old[1][0]\n",
    "P_jj_old = spectra_old[1][3]\n",
    "P_kk_old = spectra_old[1][5]\n",
    "P_ij_old = spectra_old[1][1]\n",
    "P_ik_old = spectra_old[1][2]\n",
    "P_jk_old = spectra_old[1][4]"
   ]
  },
  {
   "cell_type": "code",
   "execution_count": null,
   "id": "56b0af12",
   "metadata": {},
   "outputs": [],
   "source": [
    "(P_21[1:-1] / (b_i**2 * density_pspec_log[1:-1]))"
   ]
  },
  {
   "cell_type": "code",
   "execution_count": null,
   "id": "6a71f6a2",
   "metadata": {},
   "outputs": [],
   "source": []
  },
  {
   "cell_type": "code",
   "execution_count": null,
   "id": "8961ab34",
   "metadata": {},
   "outputs": [],
   "source": [
    "(P_jj[1:-1] / (b_j**2 * density_pspec_log[1:-1]))"
   ]
  },
  {
   "cell_type": "code",
   "execution_count": null,
   "id": "d84b9baa",
   "metadata": {},
   "outputs": [],
   "source": [
    "(P_jj/ (b_j**2 * density_pspec_log))[k_indices]"
   ]
  },
  {
   "cell_type": "code",
   "execution_count": null,
   "id": "ec51cbc2",
   "metadata": {},
   "outputs": [],
   "source": [
    "(P_kk[1:-1] / (b_k**2 * density_pspec_log[1:-1]))[k_indices]"
   ]
  },
  {
   "cell_type": "code",
   "execution_count": null,
   "id": "fc6be026",
   "metadata": {},
   "outputs": [],
   "source": [
    "(P_ij[1:-1] / (b_j * b_i * density_pspec_log[1:-1]))[k_indices]"
   ]
  },
  {
   "cell_type": "code",
   "execution_count": null,
   "id": "c34e393a",
   "metadata": {},
   "outputs": [],
   "source": [
    "(P_ik[1:-1] / (b_k * b_i * density_pspec_log[1:-1]))[k_indices]"
   ]
  },
  {
   "cell_type": "code",
   "execution_count": null,
   "id": "0ec5d550",
   "metadata": {},
   "outputs": [],
   "source": [
    "(P_jk[1:-1] / (b_k * b_j * density_pspec_log[1:-1]))[k_indices]"
   ]
  },
  {
   "cell_type": "code",
   "execution_count": null,
   "id": "a2586494",
   "metadata": {},
   "outputs": [],
   "source": [
    "1 / k_log[9:12]"
   ]
  },
  {
   "cell_type": "markdown",
   "id": "0acfe602",
   "metadata": {},
   "source": [
    "check with original box to make sure it is consistent"
   ]
  },
  {
   "cell_type": "code",
   "execution_count": null,
   "id": "19dd910f",
   "metadata": {},
   "outputs": [],
   "source": [
    "P_21_21 = analysis.calc_pspec(r_vec, t21_field, n_bins=20)"
   ]
  },
  {
   "cell_type": "code",
   "execution_count": null,
   "id": "6c62371c",
   "metadata": {},
   "outputs": [],
   "source": []
  },
  {
   "cell_type": "code",
   "execution_count": null,
   "id": "04b3188d",
   "metadata": {},
   "outputs": [],
   "source": [
    "fig, ax = plt.subplots(1,2, figsize=(16,6))\n",
    "\n",
    "Beane_et_al_estimator = (P_ij * P_ik) / P_jk\n",
    "Beane_et_al_estimator_old = (P_ij_old * P_ik_old) / P_jk_old\n",
    "\n",
    "ax[0].loglog(k, P_21, ls='--', color='black')\n",
    "ax[0].loglog(k, Beane_et_al_estimator)\n",
    "ax[0].loglog(k, Beane_et_al_estimator_old)\n",
    "ax[0].loglog(k, Beane_et_al_estimator * ff**2)\n",
    "\n",
    "ax[1].semilogx(k, (P_21 - P_21) / P_21, ls='--', color='black')\n",
    "ax[1].plot(k, (P_21 - Beane_et_al_estimator) / P_21, label='zreion model')\n",
    "ax[1].plot(k, (P_21 - Beane_et_al_estimator_old) / P_21, label='halo-luminosity relation model')\n",
    "ax[1].plot(k, (P_21 - Beane_et_al_estimator * ff**2) / P_21, label=r'zreion model $\\times \\pi / 2$')\n",
    "\n",
    "ax[1].set_ylim(-2, 1)\n",
    "\n",
    "ax[1].legend(fontsize=12)\n",
    "\n",
    "ax[0].set_xlabel(r'$k $', fontsize=16)\n",
    "ax[0].set_ylabel(r'$P (k) $', fontsize=16)\n",
    "\n",
    "ax[1].set_xlabel(r'$k$', fontsize=16)\n",
    "ax[1].set_ylabel(r'fractional error', fontsize=16)"
   ]
  },
  {
   "cell_type": "code",
   "execution_count": null,
   "id": "bd40c1e4",
   "metadata": {},
   "outputs": [],
   "source": [
    "plt.figure(figsize=(8,8))\n",
    "\n",
    "Beane_et_al_estimator = (P_ij_old * P_ik_old) / P_jk_old\n",
    "\n",
    "plt.loglog(k, spectra[1][1])\n",
    "plt.loglog(k, spectra_scaled[1][1])\n",
    "#plt.loglog(k, check)"
   ]
  },
  {
   "cell_type": "code",
   "execution_count": null,
   "id": "f8194fba",
   "metadata": {},
   "outputs": [],
   "source": [
    "ndim_corner = ndim + 3\n",
    "\n",
    "samples = mcmc_results_cross_scaled[0][0]\n",
    "samples_00 = analysis.add_P(samples, k_indices, (0,0))\n",
    "samples_11 = analysis.add_P(samples_00, k_indices, (1,1))\n",
    "samples_22 = analysis.add_P(samples_11, k_indices, (2,2))\n",
    "\n",
    "corner_gaussian = corner.corner(samples_22,\n",
    "            truths=[*utils.choose_params(mcmc_results_cross_scaled[1], k_indices), spectra_scaled[1][0][k_indices],\n",
    "                   spectra_scaled[1][3][k_indices], spectra_scaled[1][5][k_indices]],\n",
    "            labels=[r'$b_i$', r'$b_j$', r'$b_k$', r'$P_m$', r'$P_{ii}$', r'$P_{jj}$', r'$P_{kk}$'],\n",
    "            label_kwargs={'fontsize':48}, truth_color='darkgreen')\n",
    "\n",
    "axes = np.array(corner_gaussian.axes).reshape((ndim_corner, ndim_corner))\n",
    "\n",
    "# Loop over the diagonal\n",
    "for i in range(ndim_corner):\n",
    "    ax = axes[i, i]\n",
    "   # ax.axvline(np.median(samples_22[:,i]), color='darkgreen')\n",
    "   # ax.axvline(np.median(samples_22[:,i]) - np.sqrt(samples_22[:,i].var()), color=\"lightgreen\")\n",
    "   # ax.axvline(np.median(samples_22[:,i]) + np.sqrt(samples_22[:,i].var()), color=\"lightgreen\")\n"
   ]
  },
  {
   "cell_type": "markdown",
   "id": "0e5f6049",
   "metadata": {},
   "source": [
    "### Beane et al errors"
   ]
  },
  {
   "cell_type": "code",
   "execution_count": null,
   "id": "146a10dc",
   "metadata": {},
   "outputs": [],
   "source": [
    "Beane_delta_k = 0.03\n",
    "Beane_delta_z = .25\n",
    "Beane_S_A = 100 * u.deg**2\n",
    "\n",
    "Beane_L2_perp = (Planck15.comoving_distance(z)**2 \\\n",
    "            * (Beane_S_A)).to(u.Mpc**2, equivalencies=u.dimensionless_angles())\n",
    "Beane_L_para = Planck15.comoving_distance(z + Beane_delta_z) - Planck15.comoving_distance(z)\n",
    "\n",
    "Beane_V_fund = (2 * np.pi)**3 / (Beane_L2_perp * Beane_L_para)\n",
    "Beane_V = Beane_L2_perp * Beane_L_para"
   ]
  },
  {
   "cell_type": "code",
   "execution_count": null,
   "id": "6d1d2b0e",
   "metadata": {},
   "outputs": [],
   "source": [
    "np.sqrt(Beane_L2_perp), Beane_L_para"
   ]
  },
  {
   "cell_type": "code",
   "execution_count": null,
   "id": "9070005c",
   "metadata": {},
   "outputs": [],
   "source": [
    " 1 / Beane_V_fund, Beane_V"
   ]
  },
  {
   "cell_type": "code",
   "execution_count": null,
   "id": "fba318b3",
   "metadata": {},
   "outputs": [],
   "source": [
    "Beane_b_i = 17\n",
    "Beane_b_j = 3 * 5e2\n",
    "Beane_b_k = 5 * 2e3"
   ]
  },
  {
   "cell_type": "code",
   "execution_count": null,
   "id": "b10ae8bf",
   "metadata": {},
   "outputs": [],
   "source": [
    "Beane_P_CII = (3 * 5e2)**2 * P_m[:-1]\n",
    "Beane_P_OIII = (5 * 2e3)**2 * P_m[:-1]\n",
    "Beane_P_21 = 17**2 * P_m[:-1]"
   ]
  },
  {
   "cell_type": "code",
   "execution_count": null,
   "id": "f4d389df",
   "metadata": {},
   "outputs": [],
   "source": [
    "Beane_N_m = (4 * np.pi * k**2 * Beane_delta_k) / Beane_V_fund\n",
    "Beane_N_m2 = calc_N_modes(k, Beane_V, align='left')"
   ]
  },
  {
   "cell_type": "code",
   "execution_count": null,
   "id": "ca6c15dd",
   "metadata": {},
   "outputs": [],
   "source": [
    "P_ii, P_ij, P_ik, P_jj, P_jk, P_kk = spectra[1]\n",
    "\n",
    "P_ii = P_ii[:-1]\n",
    "P_jj = P_jj[:-1]\n",
    "P_kk = P_kk[:-1]\n",
    "P_ij = Beane_b_i * Beane_b_j * P_m[:-1] # P_ij[:-1]\n",
    "P_jk = Beane_b_j * Beane_b_k * P_m[:-1] # P_jk[:-1]\n",
    "P_ik = Beane_b_i * Beane_b_k * P_m[:-1] # P_ik[:-1]\n",
    "\n",
    "P_ii_tot = Beane_P_21 + Beane_P_21 * .1  # P_ii #+ (P_21 * .1)[k_indices]\n",
    "P_jj_tot = Beane_P_CII + 1.6e9 # P_jj #+ np.sqrt(var_CII_CII.value)\n",
    "P_kk_tot = Beane_P_OIII + 1.6e9 # P_kk #+ np.sqrt(var_CII_OIII.value)\n",
    "\n",
    "var_P_ii = (P_ij / P_ik)**2 * (P_ik**2 + P_ii_tot * P_kk_tot) \\\n",
    "    + (P_ik / P_ij)**2 * (P_ij**2 + P_ii_tot * P_jj_tot) \\\n",
    "    + (P_ij * P_ik / P_jk**2)**2 * (P_jk**2 + P_jj_tot * P_kk_tot) \\\n",
    "    + (P_ij * P_ik / P_jk**2) * (P_ii_tot * P_jk + P_ij * P_ik) \\\n",
    "    - (P_ij**2 * P_ik / P_jk**3) * (P_kk_tot * P_ik + P_ik * P_jk) \\\n",
    "    - (P_ij * P_ik**2 / P_jk**3) * (P_jj_tot * P_ik + P_ij * P_jk) \\\n"
   ]
  },
  {
   "cell_type": "code",
   "execution_count": null,
   "id": "272fc361",
   "metadata": {},
   "outputs": [],
   "source": [
    "k = k_log \n",
    "\n",
    "plt.loglog(k[:-1], Beane_P_21, label='Pii')\n",
    "plt.loglog(k[:-1], Beane_P_CII, label='Pjj')\n",
    "plt.loglog(k[:-1], Beane_P_OIII, label='Pkk')\n",
    "\n",
    "plt.loglog(k[:-1], P_ij, label='Pij')\n",
    "plt.loglog(k[:-1], P_jk, label='Pjk')\n",
    "plt.loglog(k[:-1], P_ik, label='Pik')\n",
    "\n",
    "plt.legend()"
   ]
  },
  {
   "cell_type": "code",
   "execution_count": null,
   "id": "4e773104",
   "metadata": {},
   "outputs": [],
   "source": [
    "Beane_N_m, Beane_N_m2"
   ]
  },
  {
   "cell_type": "code",
   "execution_count": null,
   "id": "0e4514d2",
   "metadata": {},
   "outputs": [],
   "source": [
    "fig, ax = plt.subplots(1,2,figsize=(10,5))\n",
    "\n",
    "ax[0].errorbar(k[:-1], Beane_P_21,\n",
    "             yerr=np.sqrt(var_P_ii / Beane_N_m[-1].value))\n",
    "\n",
    "ax[1].errorbar(k[:-1], Beane_P_21 * k[:-1]**3 / (2 * np.pi**2),\n",
    "             yerr=np.sqrt(var_P_ii / Beane_N_m2[-1]) * k[:-1]**3 / (2 * np.pi**2))\n",
    "\n",
    "ax[0].set_xscale('log')\n",
    "ax[1].set_xscale('log')\n",
    "\n",
    "ax[0].set_yscale('log')\n",
    "ax[1].set_yscale('log')\n",
    "\n",
    "\n",
    "plt.ylim(1e-1, 1e3)\n",
    "\n",
    "plt.xscale('log')\n",
    "plt.yscale('log')"
   ]
  },
  {
   "cell_type": "code",
   "execution_count": null,
   "id": "d865370d",
   "metadata": {},
   "outputs": [],
   "source": [
    "fig, ax = plt.subplots(1,2,figsize=(10,5))\n",
    "\n",
    "ax[0].errorbar(k[:-1], Beane_P_21 * k[:-1]**3 / (2 * np.pi**2),\n",
    "             yerr=np.sqrt(var_P_ii / Beane_N_m[-1].value) * k[:-1]**3 / (2 * np.pi**2))\n",
    "\n",
    "ax[1].errorbar(k[:-1], Beane_P_21 * k[:-1]**3 / (2 * np.pi**2),\n",
    "             yerr=np.sqrt(var_P_ii / Beane_N_m2[-1]) * k[:-1]**3 / (2 * np.pi**2))\n",
    "\n",
    "ax[0].set_ylim(1e-1, 1e3)\n",
    "ax[1].set_ylim(1e-1, 1e3)\n",
    "\n",
    "ax[0].set_xscale('log')\n",
    "ax[1].set_xscale('log')\n",
    "\n",
    "ax[0].set_yscale('log')\n",
    "ax[1].set_yscale('log')\n",
    "\n",
    "\n",
    "plt.ylim(1e-1, 1e3)\n",
    "\n",
    "plt.xscale('log')\n",
    "plt.yscale('log')"
   ]
  },
  {
   "cell_type": "code",
   "execution_count": null,
   "id": "3d34f6b5",
   "metadata": {},
   "outputs": [],
   "source": [
    "fig, ax = plt.subplots(1,2,figsize=(10,5))\n",
    "\n",
    "ax[0].errorbar(k_log[:-1], Beane_P_21 * k_log[:-1]**3 / (2 * np.pi**2),\n",
    "             yerr=np.sqrt(var_P_ii / Beane_N_m[-1].value) * k_log[:-1]**3 / (2 * np.pi**2))\n",
    "\n",
    "ax[1].errorbar(k_log[:-1], Beane_P_21 * k_log[:-1]**3 / (2 * np.pi**2),\n",
    "             yerr=np.sqrt(var_P_ii / Beane_N_m2[-1]) * k_log[:-1]**3 / (2 * np.pi**2))\n",
    "\n",
    "ax[0].set_ylim(1e-1, 1e3)\n",
    "ax[1].set_ylim(1e-1, 1e3)\n",
    "\n",
    "ax[0].set_xscale('log')\n",
    "ax[1].set_xscale('log')\n",
    "\n",
    "ax[0].set_yscale('log')\n",
    "ax[1].set_yscale('log')"
   ]
  },
  {
   "cell_type": "markdown",
   "id": "58dedf30",
   "metadata": {},
   "source": [
    "### Checking k-bin independence of the power spectrum"
   ]
  },
  {
   "cell_type": "code",
   "execution_count": null,
   "id": "2235a178",
   "metadata": {},
   "outputs": [],
   "source": [
    "fig, ax = plt.subplots(1,2,figsize=(12,6))\n",
    "\n",
    "for n in [5, 20, 50, 100, 500]:\n",
    "    k, pspec, pspec_dimless = analysis.calc_pspec(r_vec, [delta],\n",
    "                                                        n_bins=n, bin_scale='log')\n",
    "    \n",
    "    p_k_pb, bins_pb = get_power(delta, box_size,\n",
    "                                    bins=k, bin_ave=False,\n",
    "                                    vol_normalised_power=True)\n",
    "    \n",
    "    ax[0].loglog(k, pspec, marker='.')\n",
    "    ax[1].loglog(bins_pb[:-1], p_k_pb, marker='.', ls=':')"
   ]
  },
  {
   "cell_type": "code",
   "execution_count": null,
   "id": "ad13f2c9",
   "metadata": {},
   "outputs": [],
   "source": [
    "p_k_pb, bins_pb = get_power(delta, box_size,\n",
    "                                    bins=k, bin_ave=False,\n",
    "                                    vol_normalised_power=True)"
   ]
  },
  {
   "cell_type": "code",
   "execution_count": null,
   "id": "e0f3d41b",
   "metadata": {},
   "outputs": [],
   "source": [
    "for i, n in enumerate([5, 20, 50, 100, 500]):\n",
    "    plt.loglog(n_check[i][0], n_check[]"
   ]
  },
  {
   "cell_type": "code",
   "execution_count": null,
   "id": "f3a9139d",
   "metadata": {},
   "outputs": [],
   "source": [
    "# bin_edges, pspec, bins\n",
    "\n",
    "fig, ax = plt.subplots(2,2, figsize=(12,6))\n",
    "\n",
    "ax = ax.flatten()\n",
    "\n",
    "for i in range(4):\n",
    "    ax[i].hist(n_check[0][2][i], bins=25)"
   ]
  },
  {
   "cell_type": "code",
   "execution_count": null,
   "id": "a2581b95",
   "metadata": {},
   "outputs": [],
   "source": [
    "fig, ax = plt.subplots(5,4, figsize=(20,10))\n",
    "\n",
    "ax = ax.flatten()\n",
    "\n",
    "for i in range(1,19):\n",
    "    ax[i].hist(n_check[1][2][i], bins=25)"
   ]
  },
  {
   "cell_type": "code",
   "execution_count": null,
   "id": "d9b85aaf",
   "metadata": {},
   "outputs": [],
   "source": [
    "plt.hist(n_check[0][2][0])"
   ]
  },
  {
   "cell_type": "code",
   "execution_count": null,
   "id": "203968e5",
   "metadata": {},
   "outputs": [],
   "source": [
    "n_check[0][2][3]"
   ]
  },
  {
   "cell_type": "code",
   "execution_count": null,
   "id": "2c8674d3",
   "metadata": {},
   "outputs": [],
   "source": [
    "n_check[0][0]"
   ]
  },
  {
   "cell_type": "markdown",
   "id": "be985418",
   "metadata": {},
   "source": [
    "## Least Square Estimators"
   ]
  },
  {
   "cell_type": "code",
   "execution_count": null,
   "id": "d6c98b03",
   "metadata": {},
   "outputs": [],
   "source": [
    "test_LSE = fitting.recover_params_LSE(k, k_indices, spectra[1], model, P_m, variances)"
   ]
  },
  {
   "cell_type": "code",
   "execution_count": null,
   "id": "aa6bd173",
   "metadata": {},
   "outputs": [],
   "source": [
    "test_LSE[1]"
   ]
  },
  {
   "cell_type": "code",
   "execution_count": null,
   "id": "64bc53f3",
   "metadata": {},
   "outputs": [],
   "source": [
    "np.exp(test_LSE[0])[0:3] / biases"
   ]
  },
  {
   "cell_type": "code",
   "execution_count": null,
   "id": "b31ce077",
   "metadata": {},
   "outputs": [],
   "source": [
    "np.log(biases)"
   ]
  },
  {
   "cell_type": "markdown",
   "id": "9dbb6212",
   "metadata": {},
   "source": [
    "$\\sigma_f = \\sqrt{\\left( \\frac{\\partial f}{\\partial x} \\right)^2 \\sigma_x^2}$\n",
    "\n",
    "with $f(x) = e^x$ and $x=\\ln{P_m}$, yielding,\n",
    "\n",
    "$\\sigma_{P_m} = \\sqrt{\\left( \\frac{\\partial }{\\partial(\\ln{P_m})}\\left[ e^{\\ln{P_m}} \\right] \\right)^2 \\sigma_{\\ln{P_m}}^2} $\n",
    "\n",
    "$= \\sqrt{\\left(e^{\\ln{P_m}}\\right)^2 \\sigma_{\\ln{P_m}}^2}$\n",
    "$= \\sqrt{P^2_m \\sigma_{\\ln{P_m}}^2}$\n",
    "\n",
    "$\\sigma_{P_m} = P_m \\sigma_{\\ln{P_m}}$"
   ]
  },
  {
   "cell_type": "markdown",
   "id": "1964e9c2",
   "metadata": {},
   "source": [
    "and also,\n",
    "\n",
    "\n",
    "$\\sigma_f = \\sqrt{\\left( \\frac{\\partial f}{\\partial x} \\right)^2 \\sigma_x^2}$\n",
    "\n",
    "with $b_i = e^{\\eta_i}$, yielding,\n",
    "\n",
    "$\\sigma_{b_i} = \\sqrt{\\left( \\frac{\\partial }{\\partial(\\eta_i)}\\left[ e^{\\eta_i} \\right] \\right)^2 \\sigma_{\\eta_i}^2} $\n",
    "\n",
    "$= \\sqrt{\\left(e^{\\eta_i}\\right)^2 \\sigma_{\\eta_i}^2}$\n",
    "$\\sigma_{b_i} = \\sqrt{e^{2 \\eta_i} \\sigma_{\\eta_i}^2}$\n",
    "\n",
    "$\\sigma_{b_i} = \\sqrt{e^{2 \\eta_i} \\sigma_{\\eta_i}^2}$"
   ]
  },
  {
   "cell_type": "code",
   "execution_count": null,
   "id": "269b3aa9",
   "metadata": {},
   "outputs": [],
   "source": []
  }
 ],
 "metadata": {
  "kernelspec": {
   "display_name": "Python 3",
   "language": "python",
   "name": "python3"
  },
  "language_info": {
   "codemirror_mode": {
    "name": "ipython",
    "version": 3
   },
   "file_extension": ".py",
   "mimetype": "text/x-python",
   "name": "python",
   "nbconvert_exporter": "python",
   "pygments_lexer": "ipython3",
   "version": "3.7.9"
  }
 },
 "nbformat": 4,
 "nbformat_minor": 5
}
